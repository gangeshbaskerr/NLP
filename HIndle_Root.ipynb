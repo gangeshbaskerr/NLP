{
 "cells": [
  {
   "cell_type": "code",
   "execution_count": 3,
   "id": "ad15cee3",
   "metadata": {},
   "outputs": [
    {
     "name": "stdout",
     "output_type": "stream",
     "text": [
      "Natural language in handling in processing data. Good natural language in handling in processing speech data and text data. It is a good subject for doing project. Natural language processing in medical field is good to analyze the medical data. Handling Natural language in online shop is more useful.\n"
     ]
    }
   ],
   "source": [
    "f=open(r\"E:\\80085\\N.txt\")\n",
    "txt=f.read()\n",
    "print(txt)"
   ]
  },
  {
   "cell_type": "code",
   "execution_count": 4,
   "id": "ec3d1ce9",
   "metadata": {},
   "outputs": [
    {
     "name": "stdout",
     "output_type": "stream",
     "text": [
      "['natural', 'language', 'in', 'handling', 'in', 'processing', 'data.', 'good', 'natural', 'language', 'in', 'handling', 'in', 'processing', 'speech', 'data', 'and', 'text', 'data.', 'it', 'is', 'a', 'good', 'subject', 'for', 'doing', 'project.', 'natural', 'language', 'processing', 'in', 'medical', 'field', 'is', 'good', 'to', 'analyze', 'the', 'medical', 'data.', 'handling', 'natural', 'language', 'in', 'online', 'shop', 'is', 'more', 'useful.']\n"
     ]
    }
   ],
   "source": [
    "words=txt.lower().split()\n",
    "print(words)"
   ]
  },
  {
   "cell_type": "code",
   "execution_count": 6,
   "id": "b817abb7",
   "metadata": {},
   "outputs": [
    {
     "name": "stdout",
     "output_type": "stream",
     "text": [
      "[('natural', 'JJ'), ('language', 'NN'), ('in', 'IN'), ('handling', 'VBG'), ('in', 'IN'), ('processing', 'VBG'), ('data.', 'RB'), ('good', 'JJ'), ('natural', 'JJ'), ('language', 'NN'), ('in', 'IN'), ('handling', 'VBG'), ('in', 'IN'), ('processing', 'VBG'), ('speech', 'NN'), ('data', 'NNS'), ('and', 'CC'), ('text', 'NN'), ('data.', 'NN'), ('it', 'PRP'), ('is', 'VBZ'), ('a', 'DT'), ('good', 'JJ'), ('subject', 'NN'), ('for', 'IN'), ('doing', 'VBG'), ('project.', 'JJ'), ('natural', 'JJ'), ('language', 'NN'), ('processing', 'NN'), ('in', 'IN'), ('medical', 'JJ'), ('field', 'NN'), ('is', 'VBZ'), ('good', 'JJ'), ('to', 'TO'), ('analyze', 'VB'), ('the', 'DT'), ('medical', 'JJ'), ('data.', 'NN'), ('handling', 'VBG'), ('natural', 'JJ'), ('language', 'NN'), ('in', 'IN'), ('online', 'NN'), ('shop', 'NN'), ('is', 'VBZ'), ('more', 'RBR'), ('useful.', 'JJ')]\n"
     ]
    }
   ],
   "source": [
    "import nltk\n",
    "import math\n",
    "tags=nltk.pos_tag(words)\n",
    "print(tags)"
   ]
  },
  {
   "cell_type": "code",
   "execution_count": 7,
   "id": "f45bc53a",
   "metadata": {},
   "outputs": [
    {
     "name": "stdout",
     "output_type": "stream",
     "text": [
      "Nouns:  ['language', 'language', 'speech', 'text', 'data.', 'subject', 'language', 'processing', 'field', 'data.', 'language', 'online', 'shop']\n",
      "Verbs:  ['handling', 'processing', 'handling', 'processing', 'is', 'doing', 'is', 'analyze', 'handling', 'is']\n",
      "Prepositions:  ['in', 'in', 'in', 'in', 'for', 'in', 'in']\n"
     ]
    }
   ],
   "source": [
    "nouns, verbs, prep = [], [], []\n",
    "for i in range(len(tags)):\n",
    "    if tags[i][1] == 'NN' or tags[i][1] == 'NBS':\n",
    "        nouns.append(tags[i][0])\n",
    "    if tags[i][1] == 'VB' or tags[i][1] == 'VBN' or tags[i][1] == 'VBZ' or tags[i][1] == 'VBG':\n",
    "        verbs.append(tags[i][0])\n",
    "    if tags[i][1] == 'IN':\n",
    "        prep.append(tags[i][0])\n",
    "print(\"Nouns: \", nouns)\n",
    "print(\"Verbs: \", verbs)\n",
    "print(\"Prepositions: \", prep)"
   ]
  },
  {
   "cell_type": "code",
   "execution_count": 8,
   "id": "871fcd18",
   "metadata": {},
   "outputs": [
    {
     "name": "stdout",
     "output_type": "stream",
     "text": [
      "['natural language', 'language in', 'in handling', 'handling in', 'in processing', 'processing data.', 'data. good', 'good natural', 'natural language', 'language in', 'in handling', 'handling in', 'in processing', 'processing speech', 'speech data', 'data and', 'and text', 'text data.', 'data. it', 'it is', 'is a', 'a good', 'good subject', 'subject for', 'for doing', 'doing project.', 'project. natural', 'natural language', 'language processing', 'processing in', 'in medical', 'medical field', 'field is', 'is good', 'good to', 'to analyze', 'analyze the', 'the medical', 'medical data.', 'data. handling', 'handling natural', 'natural language', 'language in', 'in online', 'online shop', 'shop is', 'is more', 'more useful.']\n"
     ]
    }
   ],
   "source": [
    "bigramwords = []\n",
    "for i in range(len(words)-1):\n",
    "    bigramwords.append(words[i]+\" \"+words[i+1])\n",
    "print(bigramwords)"
   ]
  },
  {
   "cell_type": "code",
   "execution_count": 9,
   "id": "5594daff",
   "metadata": {},
   "outputs": [],
   "source": [
    "def hindle_rooth(v,n,p):\n",
    "    verb_count = words.count(v)\n",
    "    noun_count = words.count(n)\n",
    "    prep_count = words.count(p)\n",
    "    verb_prep_count = bigramwords.count(v+\" \"+p)\n",
    "    noun_prep_count = bigramwords.count(n+\" \"+p)\n",
    "    p1 = verb_prep_count/verb_count\n",
    "    p2 = noun_prep_count/noun_count\n",
    "    p3 = 1-p2\n",
    "    result=(p1*p3)/p2\n",
    "    result = math.log(result, 2)\n",
    "    framing(verb_count,noun_count,verb_prep_count,noun_prep_count,v,n,prep,result)"
   ]
  },
  {
   "cell_type": "code",
   "execution_count": 10,
   "id": "83f28d08",
   "metadata": {},
   "outputs": [],
   "source": [
    "import pandas as pd\n",
    "def framing(v,n,vp, np, verb, noun, prep, result):\n",
    "    data = { \"W\": [verb, noun], \"C(W)\": [v,n], \"C(W+P)\" : [vp, np]}\n",
    "    df = pd.DataFrame(data, index=[\"->\",\"->\"])\n",
    "    print(df)\n",
    "    print(\"\\n\")\n",
    "    print(\"Noun:\",noun)\n",
    "    print(\"Verb: \",verb)\n",
    "    print(\"Preposition:\",prep)\n",
    "    print(\"Result:\", result)\n",
    "    if result>0:\n",
    "        print(\"Preposition attaches with Verb\")\n",
    "    else:\n",
    "        print(\"Preposition attaches with Noun\")"
   ]
  },
  {
   "cell_type": "code",
   "execution_count": 11,
   "id": "c3ae9ce9",
   "metadata": {},
   "outputs": [
    {
     "name": "stdout",
     "output_type": "stream",
     "text": [
      "           W  C(W)  C(W+P)\n",
      "->  handling     3       2\n",
      "->  language     4       3\n",
      "\n",
      "\n",
      "Noun: language\n",
      "Verb:  handling\n",
      "Preposition: ['in', 'in', 'in', 'in', 'for', 'in', 'in']\n",
      "Result: -2.1699250014423126\n",
      "Preposition attaches with Noun\n"
     ]
    }
   ],
   "source": [
    "hindle_rooth(\"handling\",\"language\",\"in\")"
   ]
  },
  {
   "cell_type": "code",
   "execution_count": 1,
   "id": "99f16421",
   "metadata": {},
   "outputs": [],
   "source": [
    "import pandas as pd\n",
    "import numpy as np\n",
    "import math"
   ]
  },
  {
   "cell_type": "code",
   "execution_count": 2,
   "id": "ce3f9087-3342-48f1-b5d0-7ad46b87cf58",
   "metadata": {},
   "outputs": [
    {
     "ename": "NameError",
     "evalue": "name 'cv' is not defined",
     "output_type": "error",
     "traceback": [
      "\u001b[1;31m---------------------------------------------------------------------------\u001b[0m",
      "\u001b[1;31mNameError\u001b[0m                                 Traceback (most recent call last)",
      "Cell \u001b[1;32mIn[2], line 1\u001b[0m\n\u001b[1;32m----> 1\u001b[0m data\u001b[38;5;241m=\u001b[39mpd\u001b[38;5;241m.\u001b[39mDataFrame({\u001b[38;5;124m'\u001b[39m\u001b[38;5;124mw\u001b[39m\u001b[38;5;124m'\u001b[39m:[\u001b[38;5;124m'\u001b[39m\u001b[38;5;124mend\u001b[39m\u001b[38;5;124m'\u001b[39m,\u001b[38;5;124m'\u001b[39m\u001b[38;5;124mventure\u001b[39m\u001b[38;5;124m'\u001b[39m],\u001b[38;5;124m'\u001b[39m\u001b[38;5;124mc(w)\u001b[39m\u001b[38;5;124m'\u001b[39m:[\u001b[43mcv\u001b[49m,cn],\u001b[38;5;124m'\u001b[39m\u001b[38;5;124mc(w,prep)\u001b[39m\u001b[38;5;124m'\u001b[39m:[cvp,cnp]})\n\u001b[0;32m      2\u001b[0m data\n",
      "\u001b[1;31mNameError\u001b[0m: name 'cv' is not defined"
     ]
    }
   ],
   "source": [
    "data=pd.DataFrame({'w':['end','venture'],'c(w)':[cv,cn],'c(w,prep)':[cvp,cnp]})\n",
    "data"
   ]
  },
  {
   "cell_type": "code",
   "execution_count": 3,
   "id": "8eabb36d-1ced-45de-bea7-5844abc3fe45",
   "metadata": {},
   "outputs": [],
   "source": [
    "def calc_result(df):\n",
    "    c_v=df['c(w)'][0]\n",
    "    c_vp=df['c(w,prep)'][0]\n",
    "    c_n=df['c(w)'][1]\n",
    "    c_np=df['c(w,prep)'][1]\n",
    "    prob_vp=c_vp/c_v\n",
    "    prob_np=c_np/c_n\n",
    "    prob_np1=1-prob_np\n",
    "    res1=(prob_vp*prob_np1)/prob_np\n",
    "    res=math.log2(res1)\n",
    "    if res > 0:\n",
    "        print(\"Attach the preposition with the verb\")\n",
    "    else:\n",
    "        print(\"Attach the preposition with the noun\")"
   ]
  },
  {
   "cell_type": "code",
   "execution_count": 4,
   "id": "96c1a4ca-f11c-49e9-b4e1-026c847eea3c",
   "metadata": {},
   "outputs": [
    {
     "ename": "NameError",
     "evalue": "name 'data' is not defined",
     "output_type": "error",
     "traceback": [
      "\u001b[1;31m---------------------------------------------------------------------------\u001b[0m",
      "\u001b[1;31mNameError\u001b[0m                                 Traceback (most recent call last)",
      "Cell \u001b[1;32mIn[4], line 1\u001b[0m\n\u001b[1;32m----> 1\u001b[0m calc_result(\u001b[43mdata\u001b[49m)\n",
      "\u001b[1;31mNameError\u001b[0m: name 'data' is not defined"
     ]
    }
   ],
   "source": [
    "calc_result(data)"
   ]
  },
  {
   "cell_type": "code",
   "execution_count": 5,
   "id": "75c6f19d-2e98-42a8-a655-dda5199e9706",
   "metadata": {},
   "outputs": [
    {
     "data": {
      "text/html": [
       "<div>\n",
       "<style scoped>\n",
       "    .dataframe tbody tr th:only-of-type {\n",
       "        vertical-align: middle;\n",
       "    }\n",
       "\n",
       "    .dataframe tbody tr th {\n",
       "        vertical-align: top;\n",
       "    }\n",
       "\n",
       "    .dataframe thead th {\n",
       "        text-align: right;\n",
       "    }\n",
       "</style>\n",
       "<table border=\"1\" class=\"dataframe\">\n",
       "  <thead>\n",
       "    <tr style=\"text-align: right;\">\n",
       "      <th></th>\n",
       "      <th>w</th>\n",
       "      <th>c(w)</th>\n",
       "      <th>c(w,prep)</th>\n",
       "    </tr>\n",
       "  </thead>\n",
       "  <tbody>\n",
       "    <tr>\n",
       "      <th>0</th>\n",
       "      <td>send</td>\n",
       "      <td>1742.5</td>\n",
       "      <td>86</td>\n",
       "    </tr>\n",
       "    <tr>\n",
       "      <th>1</th>\n",
       "      <td>soldiers</td>\n",
       "      <td>1478.0</td>\n",
       "      <td>1</td>\n",
       "    </tr>\n",
       "  </tbody>\n",
       "</table>\n",
       "</div>"
      ],
      "text/plain": [
       "          w    c(w)  c(w,prep)\n",
       "0      send  1742.5         86\n",
       "1  soldiers  1478.0          1"
      ]
     },
     "execution_count": 5,
     "metadata": {},
     "output_type": "execute_result"
    }
   ],
   "source": [
    "data1=pd.DataFrame({'w':['send','soldiers'],'c(w)':[1742.5,1478],'c(w,prep)':[86,1]})\n",
    "data1"
   ]
  },
  {
   "cell_type": "code",
   "execution_count": 6,
   "id": "cd0f927c-4b03-417a-ac17-69211fe8d49f",
   "metadata": {},
   "outputs": [
    {
     "name": "stdout",
     "output_type": "stream",
     "text": [
      "Attach the preposition with the verb\n"
     ]
    }
   ],
   "source": [
    "calc_result(data1)"
   ]
  },
  {
   "cell_type": "code",
   "execution_count": null,
   "id": "e826cc17-5b66-465e-a39c-610260afc472",
   "metadata": {},
   "outputs": [],
   "source": []
  }
 ],
 "metadata": {
  "kernelspec": {
   "display_name": "Python 3 (ipykernel)",
   "language": "python",
   "name": "python3"
  },
  "language_info": {
   "codemirror_mode": {
    "name": "ipython",
    "version": 3
   },
   "file_extension": ".py",
   "mimetype": "text/x-python",
   "name": "python",
   "nbconvert_exporter": "python",
   "pygments_lexer": "ipython3",
   "version": "3.12.0"
  }
 },
 "nbformat": 4,
 "nbformat_minor": 5
}
