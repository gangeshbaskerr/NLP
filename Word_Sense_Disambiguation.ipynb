{
 "cells": [
  {
   "cell_type": "markdown",
   "id": "fb8c85f0",
   "metadata": {},
   "source": [
    "# Word Sense Disambiguation "
   ]
  },
  {
   "cell_type": "code",
   "execution_count": 16,
   "id": "738e869b",
   "metadata": {},
   "outputs": [],
   "source": [
    "txt_file = open(\"disambdata.txt\", \"r\")\n",
    "data = txt_file.readlines()\n",
    "corpus = []\n",
    "sense = []\n",
    "for i in data:\n",
    "    corpus.append(i.split(\" : \")[0])\n",
    "    sense.append(i.split(\" : \")[1].split(\"\\n\")[0])"
   ]
  },
  {
   "cell_type": "code",
   "execution_count": 17,
   "id": "9d4c7ce3",
   "metadata": {},
   "outputs": [
    {
     "name": "stderr",
     "output_type": "stream",
     "text": [
      "[nltk_data] Downloading package stopwords to\n",
      "[nltk_data]     C:\\Users\\Admin\\AppData\\Roaming\\nltk_data...\n",
      "[nltk_data]   Package stopwords is already up-to-date!\n",
      "[nltk_data] Downloading package punkt to\n",
      "[nltk_data]     C:\\Users\\Admin\\AppData\\Roaming\\nltk_data...\n",
      "[nltk_data]   Package punkt is already up-to-date!\n"
     ]
    },
    {
     "data": {
      "text/plain": [
       "True"
      ]
     },
     "execution_count": 17,
     "metadata": {},
     "output_type": "execute_result"
    }
   ],
   "source": [
    "import string\n",
    "import nltk ,re\n",
    "import math\n",
    "import numpy as np\n",
    "from nltk.corpus import stopwords\n",
    "nltk.download('stopwords')\n",
    "nltk.download('punkt')"
   ]
  },
  {
   "cell_type": "code",
   "execution_count": 18,
   "id": "61ea9d96",
   "metadata": {},
   "outputs": [
    {
     "data": {
      "text/plain": [
       "[['He', 'acts', 'as', 'the', 'IT', 'department', 'chair'],\n",
       " ['He', 'is', 'seated', 'in', 'a', 'steel', 'chair'],\n",
       " ['chair',\n",
       "  'does',\n",
       "  'not',\n",
       "  'interfere',\n",
       "  'in',\n",
       "  'day',\n",
       "  'to',\n",
       "  'day',\n",
       "  'company',\n",
       "  'matters'],\n",
       " ['I', 'need', 'a', 'chair', 'to', 'sit'],\n",
       " ['He', 'is', 'lying', 'down', 'on', 'a', 'chair']]"
      ]
     },
     "execution_count": 18,
     "metadata": {},
     "output_type": "execute_result"
    }
   ],
   "source": [
    "stop_words = set(stopwords.words('english'))\n",
    "for i in range(0, len(corpus)):\n",
    "    corpus[i] = nltk.word_tokenize(corpus[i])\n",
    "corpus"
   ]
  },
  {
   "cell_type": "code",
   "execution_count": 19,
   "id": "1dcea5f8",
   "metadata": {},
   "outputs": [
    {
     "data": {
      "text/plain": [
       "['He',\n",
       " 'acts',\n",
       " 'IT',\n",
       " 'department',\n",
       " 'chair',\n",
       " 'He',\n",
       " 'seated',\n",
       " 'steel',\n",
       " 'chair',\n",
       " 'chair',\n",
       " 'interfere',\n",
       " 'day',\n",
       " 'day',\n",
       " 'company',\n",
       " 'matters',\n",
       " 'I',\n",
       " 'need',\n",
       " 'chair',\n",
       " 'sit',\n",
       " 'He',\n",
       " 'lying',\n",
       " 'chair']"
      ]
     },
     "execution_count": 19,
     "metadata": {},
     "output_type": "execute_result"
    }
   ],
   "source": [
    "ws= []\n",
    "filtered_corpus = []\n",
    "for i in corpus:\n",
    "    stop = []\n",
    "    for j in i:\n",
    "        if j not in stop_words and j != \"'s\":\n",
    "            ws.append(j)\n",
    "        else:\n",
    "            stop.append(j)\n",
    "    filtered_corpus.append(i)\n",
    "    for k in stop:\n",
    "        filtered_corpus[-1].remove(k)\n",
    "ws"
   ]
  },
  {
   "cell_type": "code",
   "execution_count": 20,
   "id": "1cd5bff3",
   "metadata": {},
   "outputs": [
    {
     "data": {
      "text/plain": [
       "['He',\n",
       " 'acts',\n",
       " 'IT',\n",
       " 'department',\n",
       " 'chair',\n",
       " 'seated',\n",
       " 'steel',\n",
       " 'interfere',\n",
       " 'day',\n",
       " 'company',\n",
       " 'matters',\n",
       " 'I',\n",
       " 'need',\n",
       " 'sit',\n",
       " 'lying']"
      ]
     },
     "execution_count": 20,
     "metadata": {},
     "output_type": "execute_result"
    }
   ],
   "source": [
    "vocab = []\n",
    "for i in ws:\n",
    "    if i not in vocab:\n",
    "        vocab.append(i)\n",
    "vocab"
   ]
  },
  {
   "cell_type": "code",
   "execution_count": 21,
   "id": "23c728b0",
   "metadata": {},
   "outputs": [],
   "source": [
    "def count(i, j):\n",
    "    counter = 0\n",
    "    for k in i:\n",
    "        if k==j:\n",
    "            counter+=1\n",
    "    return counter"
   ]
  },
  {
   "cell_type": "code",
   "execution_count": 22,
   "id": "21c54e25",
   "metadata": {},
   "outputs": [
    {
     "data": {
      "text/plain": [
       "{'Position': 2, 'furniture': 3}"
      ]
     },
     "execution_count": 22,
     "metadata": {},
     "output_type": "execute_result"
    }
   ],
   "source": [
    "sense_data = {}\n",
    "for i in sense:\n",
    "    if i not in sense_data:\n",
    "        sense_data[i] = count(sense, i)\n",
    "sense_data"
   ]
  },
  {
   "cell_type": "code",
   "execution_count": 25,
   "id": "784f3faf",
   "metadata": {},
   "outputs": [
    {
     "data": {
      "text/plain": [
       "['I', 'department', 'chair', 'IT']"
      ]
     },
     "execution_count": 25,
     "metadata": {},
     "output_type": "execute_result"
    }
   ],
   "source": [
    "target_sentence = \"I'm the department chair of IT\"\n",
    "target_token = nltk.word_tokenize(target_sentence)\n",
    "target_ws = []\n",
    "for i in target_token:\n",
    "    if i not in stop_words and i != \"'m\":\n",
    "        target_ws.append(i)\n",
    "target_ws"
   ]
  },
  {
   "cell_type": "code",
   "execution_count": 27,
   "id": "e3c89c29",
   "metadata": {},
   "outputs": [
    {
     "data": {
      "text/plain": [
       "{'IPosition': 0,\n",
       " 'Ifurniture': 1,\n",
       " 'departmentPosition': 1,\n",
       " 'departmentfurniture': 0,\n",
       " 'chairPosition': 2,\n",
       " 'chairfurniture': 3,\n",
       " 'ITPosition': 1,\n",
       " 'ITfurniture': 0}"
      ]
     },
     "execution_count": 27,
     "metadata": {},
     "output_type": "execute_result"
    }
   ],
   "source": [
    "class_count = {}\n",
    "for i in target_ws:\n",
    "    for k in sense_data.keys():\n",
    "        class_count[i+k] = 0\n",
    "    for j in range(0, len(filtered_corpus)):\n",
    "        word_count = count(filtered_corpus[j], i)\n",
    "        class_count[i+sense[j]]+=word_count\n",
    "class_count"
   ]
  },
  {
   "cell_type": "code",
   "execution_count": 28,
   "id": "7a60e97e",
   "metadata": {},
   "outputs": [],
   "source": [
    "result = {}\n",
    "for i in sense_data.keys():\n",
    "    prob = sense_data[i]/len(filtered_corpus)\n",
    "    for j in target_ws:\n",
    "        prob *= (class_count[j+i]+1)/(sense_data[i]+len(vocab))\n",
    "    result[i] = prob"
   ]
  },
  {
   "cell_type": "code",
   "execution_count": 29,
   "id": "a0de4a88",
   "metadata": {},
   "outputs": [
    {
     "data": {
      "text/plain": [
       "{'Position': 5.747057626225739e-05, 'furniture': 4.572473708276177e-05}"
      ]
     },
     "execution_count": 29,
     "metadata": {},
     "output_type": "execute_result"
    }
   ],
   "source": [
    "result"
   ]
  },
  {
   "cell_type": "code",
   "execution_count": 30,
   "id": "3ecce75c",
   "metadata": {},
   "outputs": [
    {
     "data": {
      "text/plain": [
       "'Position'"
      ]
     },
     "execution_count": 30,
     "metadata": {},
     "output_type": "execute_result"
    }
   ],
   "source": [
    "max(result, key=result.get)"
   ]
  },
  {
   "cell_type": "code",
   "execution_count": 31,
   "id": "eaf2f228",
   "metadata": {},
   "outputs": [],
   "source": [
    "from math import log\n",
    "log_result = {}\n",
    "for i in sense_data.keys():\n",
    "    prob = log(2, sense_data[i]/len(filtered_corpus))\n",
    "    for j in target_ws:\n",
    "        prob *= log(2,(class_count[j+i]+1)/(sense_data[i]+len(vocab)))\n",
    "    log_result[i] = prob"
   ]
  },
  {
   "cell_type": "code",
   "execution_count": 32,
   "id": "685380d6",
   "metadata": {},
   "outputs": [
    {
     "data": {
      "text/plain": [
       "{'Position': -0.007758195614353548, 'furniture': -0.011344950051796298}"
      ]
     },
     "execution_count": 32,
     "metadata": {},
     "output_type": "execute_result"
    }
   ],
   "source": [
    "log_result"
   ]
  },
  {
   "cell_type": "code",
   "execution_count": 33,
   "id": "cdd1697f",
   "metadata": {},
   "outputs": [
    {
     "data": {
      "text/plain": [
       "'Position'"
      ]
     },
     "execution_count": 33,
     "metadata": {},
     "output_type": "execute_result"
    }
   ],
   "source": [
    "max(log_result, key=result.get)"
   ]
  }
 ],
 "metadata": {
  "kernelspec": {
   "display_name": "Python 3 (ipykernel)",
   "language": "python",
   "name": "python3"
  },
  "language_info": {
   "codemirror_mode": {
    "name": "ipython",
    "version": 3
   },
   "file_extension": ".py",
   "mimetype": "text/x-python",
   "name": "python",
   "nbconvert_exporter": "python",
   "pygments_lexer": "ipython3",
   "version": "3.12.0"
  }
 },
 "nbformat": 4,
 "nbformat_minor": 5
}
