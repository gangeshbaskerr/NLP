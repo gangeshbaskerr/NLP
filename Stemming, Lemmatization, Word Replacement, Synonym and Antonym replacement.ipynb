{
 "cells": [
  {
   "cell_type": "code",
   "execution_count": 1,
   "id": "f43cc820",
   "metadata": {},
   "outputs": [],
   "source": [
    "from nltk.stem import PorterStemmer, LancasterStemmer, RegexpStemmer, SnowballStemmer\n",
    "from nltk.stem import WordNetLemmatizer\n",
    "from nltk.corpus import wordnet\n",
    "import re\n",
    "import csv\n",
    "import yaml"
   ]
  },
  {
   "cell_type": "code",
   "execution_count": 2,
   "id": "c672472f",
   "metadata": {},
   "outputs": [
    {
     "name": "stdout",
     "output_type": "stream",
     "text": [
      "write\n",
      "eat\n",
      "eat\n",
      "eat\n",
      "bonjour\n"
     ]
    }
   ],
   "source": [
    "# Stemming\n",
    "word_stemmer = PorterStemmer()\n",
    "print(word_stemmer.stem('writing'))\n",
    "print(word_stemmer.stem('eating'))\n",
    "\n",
    "Lanc_stemmer = LancasterStemmer()\n",
    "print(Lanc_stemmer.stem('eats'))\n",
    "\n",
    "Reg_stemmer = RegexpStemmer('ing')\n",
    "print(Reg_stemmer.stem('eating'))\n",
    "\n",
    "SnowballStemmer.languages\n",
    "French_stemmer = SnowballStemmer('french')\n",
    "print(French_stemmer.stem('Bonjoura'))"
   ]
  },
  {
   "cell_type": "code",
   "execution_count": 3,
   "id": "9c710c9b",
   "metadata": {},
   "outputs": [
    {
     "name": "stdout",
     "output_type": "stream",
     "text": [
      "eating\n",
      "book\n",
      "bookes\n",
      "bookie\n"
     ]
    }
   ],
   "source": [
    "# Lemmatization\n",
    "lemmatizer = WordNetLemmatizer()\n",
    "print(lemmatizer.lemmatize('eating'))\n",
    "print(lemmatizer.lemmatize('books'))\n",
    "print(lemmatizer.lemmatize('bookes'))\n",
    "print(lemmatizer.lemmatize('bookies'))"
   ]
  },
  {
   "cell_type": "code",
   "execution_count": 4,
   "id": "6c65df34",
   "metadata": {},
   "outputs": [
    {
     "name": "stdout",
     "output_type": "stream",
     "text": [
      "I will not do it\n"
     ]
    }
   ],
   "source": [
    "# Word Replacement\n",
    "class REReplacer(object):\n",
    "    def __init__(self, pattern=[(r'won\\'t', 'will not'), (r'can\\'t', 'cannot'),\n",
    "                                (r'i\\'m', 'i am'), (r'(\\w+)\\'ll', 'g<1> will'),\n",
    "                                (r'(\\w+)n\\'t', 'g<1> not'), (r'(\\w+)\\'ve', 'g<1> have'),\n",
    "                                (r'(\\w+)\\'s', 'g<1> is'), (r'(\\w+)\\'re', 'g<1> are')]):\n",
    "        self.pattern = [(re.compile(regex), repl) for (regex, repl) in pattern]\n",
    "\n",
    "    def replace(self, text):\n",
    "        s = text\n",
    "        for (pattern, repl) in self.pattern:\n",
    "            s = re.sub(pattern, repl, s)\n",
    "        return s\n",
    "\n",
    "rep_word = REReplacer()\n",
    "print(rep_word.replace(\"I won't do it\"))"
   ]
  },
  {
   "cell_type": "code",
   "execution_count": 5,
   "id": "c00e61b1",
   "metadata": {},
   "outputs": [
    {
     "name": "stdout",
     "output_type": "stream",
     "text": [
      "['I', 'wo', \"n't\", 'be', 'able', 'to', 'do', 'this', 'now']\n",
      "['I', 'will', 'not', 'be', 'able', 'to', 'do', 'this', 'now']\n"
     ]
    }
   ],
   "source": [
    "from nltk.tokenize import word_tokenize\n",
    "rep_word = REReplacer()\n",
    "print(word_tokenize(\"I won't be able to do this now\"))\n",
    "print(word_tokenize(rep_word.replace(\"I won't be able to do this now\")))"
   ]
  },
  {
   "cell_type": "code",
   "execution_count": 6,
   "id": "49057d16",
   "metadata": {},
   "outputs": [
    {
     "name": "stdout",
     "output_type": "stream",
     "text": [
      "Hi\n",
      "Hello\n"
     ]
    }
   ],
   "source": [
    "class Rep_word_removal(object):\n",
    "    def __init__(self):\n",
    "        self.repeat_regexp = re.compile(r'(\\w*)(\\w)\\2(\\w*)')\n",
    "        self.repl = r'\\1\\2\\3'\n",
    "\n",
    "    def replace(self, word):\n",
    "        if wordnet.synsets(word):\n",
    "            return word\n",
    "        repl_word = self.repeat_regexp.sub(self.repl, word)\n",
    "        if repl_word != word:\n",
    "            return self.replace(repl_word)\n",
    "        else:\n",
    "            return repl_word\n",
    "\n",
    "rep_word = Rep_word_removal()\n",
    "print(rep_word.replace(\"Hiiiiiiiiiiiiiiiiii\"))\n",
    "print(rep_word.replace('Helloooooooooooooo'))"
   ]
  },
  {
   "cell_type": "code",
   "execution_count": 7,
   "id": "341fa855",
   "metadata": {},
   "outputs": [
    {
     "name": "stdout",
     "output_type": "stream",
     "text": [
      "birthday\n"
     ]
    }
   ],
   "source": [
    "class word_syn_replacer(object):\n",
    "    def __init__(self, word_map):\n",
    "        self.word_map = word_map\n",
    "\n",
    "    def replace(self, word):\n",
    "        return self.word_map.get(word, word)\n",
    "\n",
    "rep_syn = word_syn_replacer({'bday': 'birthday'})\n",
    "print(rep_syn.replace('bday'))"
   ]
  },
  {
   "cell_type": "code",
   "execution_count": 8,
   "id": "2661bf3e",
   "metadata": {},
   "outputs": [
    {
     "ename": "FileNotFoundError",
     "evalue": "[Errno 2] No such file or directory: 'syn.csv'",
     "output_type": "error",
     "traceback": [
      "\u001b[1;31m---------------------------------------------------------------------------\u001b[0m",
      "\u001b[1;31mFileNotFoundError\u001b[0m                         Traceback (most recent call last)",
      "Cell \u001b[1;32mIn[8], line 9\u001b[0m\n\u001b[0;32m      6\u001b[0m             word_map[word] \u001b[38;5;241m=\u001b[39m syn\n\u001b[0;32m      7\u001b[0m         \u001b[38;5;28msuper\u001b[39m(CSVword_syn_replacer, \u001b[38;5;28mself\u001b[39m)\u001b[38;5;241m.\u001b[39m\u001b[38;5;21m__init__\u001b[39m(word_map)\n\u001b[1;32m----> 9\u001b[0m rep_syn \u001b[38;5;241m=\u001b[39m CSVword_syn_replacer(\u001b[38;5;124m'\u001b[39m\u001b[38;5;124msyn.csv\u001b[39m\u001b[38;5;124m'\u001b[39m)\n\u001b[0;32m     10\u001b[0m \u001b[38;5;28mprint\u001b[39m(rep_syn\u001b[38;5;241m.\u001b[39mreplace(\u001b[38;5;124m'\u001b[39m\u001b[38;5;124mbday\u001b[39m\u001b[38;5;124m'\u001b[39m))\n",
      "Cell \u001b[1;32mIn[8], line 4\u001b[0m, in \u001b[0;36mCSVword_syn_replacer.__init__\u001b[1;34m(self, fname)\u001b[0m\n\u001b[0;32m      2\u001b[0m \u001b[38;5;28;01mdef\u001b[39;00m \u001b[38;5;21m__init__\u001b[39m(\u001b[38;5;28mself\u001b[39m, fname):\n\u001b[0;32m      3\u001b[0m     word_map \u001b[38;5;241m=\u001b[39m {}\n\u001b[1;32m----> 4\u001b[0m     \u001b[38;5;28;01mfor\u001b[39;00m line \u001b[38;5;129;01min\u001b[39;00m csv\u001b[38;5;241m.\u001b[39mreader(\u001b[38;5;28mopen\u001b[39m(fname)):\n\u001b[0;32m      5\u001b[0m         word, syn \u001b[38;5;241m=\u001b[39m line\n\u001b[0;32m      6\u001b[0m         word_map[word] \u001b[38;5;241m=\u001b[39m syn\n",
      "File \u001b[1;32mC:\\ProgramData\\anaconda3\\Lib\\site-packages\\IPython\\core\\interactiveshell.py:284\u001b[0m, in \u001b[0;36m_modified_open\u001b[1;34m(file, *args, **kwargs)\u001b[0m\n\u001b[0;32m    277\u001b[0m \u001b[38;5;28;01mif\u001b[39;00m file \u001b[38;5;129;01min\u001b[39;00m {\u001b[38;5;241m0\u001b[39m, \u001b[38;5;241m1\u001b[39m, \u001b[38;5;241m2\u001b[39m}:\n\u001b[0;32m    278\u001b[0m     \u001b[38;5;28;01mraise\u001b[39;00m \u001b[38;5;167;01mValueError\u001b[39;00m(\n\u001b[0;32m    279\u001b[0m         \u001b[38;5;124mf\u001b[39m\u001b[38;5;124m\"\u001b[39m\u001b[38;5;124mIPython won\u001b[39m\u001b[38;5;124m'\u001b[39m\u001b[38;5;124mt let you open fd=\u001b[39m\u001b[38;5;132;01m{\u001b[39;00mfile\u001b[38;5;132;01m}\u001b[39;00m\u001b[38;5;124m by default \u001b[39m\u001b[38;5;124m\"\u001b[39m\n\u001b[0;32m    280\u001b[0m         \u001b[38;5;124m\"\u001b[39m\u001b[38;5;124mas it is likely to crash IPython. If you know what you are doing, \u001b[39m\u001b[38;5;124m\"\u001b[39m\n\u001b[0;32m    281\u001b[0m         \u001b[38;5;124m\"\u001b[39m\u001b[38;5;124myou can use builtins\u001b[39m\u001b[38;5;124m'\u001b[39m\u001b[38;5;124m open.\u001b[39m\u001b[38;5;124m\"\u001b[39m\n\u001b[0;32m    282\u001b[0m     )\n\u001b[1;32m--> 284\u001b[0m \u001b[38;5;28;01mreturn\u001b[39;00m io_open(file, \u001b[38;5;241m*\u001b[39margs, \u001b[38;5;241m*\u001b[39m\u001b[38;5;241m*\u001b[39mkwargs)\n",
      "\u001b[1;31mFileNotFoundError\u001b[0m: [Errno 2] No such file or directory: 'syn.csv'"
     ]
    }
   ],
   "source": [
    "class CSVword_syn_replacer(word_syn_replacer):\n",
    "    def __init__(self, fname):\n",
    "        word_map = {}\n",
    "        for line in csv.reader(open(fname)):\n",
    "            word, syn = line\n",
    "            word_map[word] = syn\n",
    "        super(CSVword_syn_replacer, self).__init__(word_map)\n",
    "\n",
    "rep_syn = CSVword_syn_replacer('syn.csv')\n",
    "print(rep_syn.replace('bday'))"
   ]
  },
  {
   "cell_type": "code",
   "execution_count": 9,
   "id": "9b576a96",
   "metadata": {},
   "outputs": [
    {
     "ename": "FileNotFoundError",
     "evalue": "[Errno 2] No such file or directory: 'syn.yaml'",
     "output_type": "error",
     "traceback": [
      "\u001b[1;31m---------------------------------------------------------------------------\u001b[0m",
      "\u001b[1;31mFileNotFoundError\u001b[0m                         Traceback (most recent call last)",
      "Cell \u001b[1;32mIn[9], line 6\u001b[0m\n\u001b[0;32m      3\u001b[0m         word_map \u001b[38;5;241m=\u001b[39m yaml\u001b[38;5;241m.\u001b[39mload(\u001b[38;5;28mopen\u001b[39m(fname))\n\u001b[0;32m      4\u001b[0m         \u001b[38;5;28msuper\u001b[39m(YAMLword_syn_replacer, \u001b[38;5;28mself\u001b[39m)\u001b[38;5;241m.\u001b[39m\u001b[38;5;21m__init__\u001b[39m(word_map)\n\u001b[1;32m----> 6\u001b[0m rep_syn \u001b[38;5;241m=\u001b[39m YAMLword_syn_replacer(\u001b[38;5;124m'\u001b[39m\u001b[38;5;124msyn.yaml\u001b[39m\u001b[38;5;124m'\u001b[39m)\n\u001b[0;32m      7\u001b[0m \u001b[38;5;28mprint\u001b[39m(rep_syn\u001b[38;5;241m.\u001b[39mreplace(\u001b[38;5;124m'\u001b[39m\u001b[38;5;124mbday\u001b[39m\u001b[38;5;124m'\u001b[39m))\n",
      "Cell \u001b[1;32mIn[9], line 3\u001b[0m, in \u001b[0;36mYAMLword_syn_replacer.__init__\u001b[1;34m(self, fname)\u001b[0m\n\u001b[0;32m      2\u001b[0m \u001b[38;5;28;01mdef\u001b[39;00m \u001b[38;5;21m__init__\u001b[39m(\u001b[38;5;28mself\u001b[39m, fname):\n\u001b[1;32m----> 3\u001b[0m     word_map \u001b[38;5;241m=\u001b[39m yaml\u001b[38;5;241m.\u001b[39mload(\u001b[38;5;28mopen\u001b[39m(fname))\n\u001b[0;32m      4\u001b[0m     \u001b[38;5;28msuper\u001b[39m(YAMLword_syn_replacer, \u001b[38;5;28mself\u001b[39m)\u001b[38;5;241m.\u001b[39m\u001b[38;5;21m__init__\u001b[39m(word_map)\n",
      "File \u001b[1;32mC:\\ProgramData\\anaconda3\\Lib\\site-packages\\IPython\\core\\interactiveshell.py:284\u001b[0m, in \u001b[0;36m_modified_open\u001b[1;34m(file, *args, **kwargs)\u001b[0m\n\u001b[0;32m    277\u001b[0m \u001b[38;5;28;01mif\u001b[39;00m file \u001b[38;5;129;01min\u001b[39;00m {\u001b[38;5;241m0\u001b[39m, \u001b[38;5;241m1\u001b[39m, \u001b[38;5;241m2\u001b[39m}:\n\u001b[0;32m    278\u001b[0m     \u001b[38;5;28;01mraise\u001b[39;00m \u001b[38;5;167;01mValueError\u001b[39;00m(\n\u001b[0;32m    279\u001b[0m         \u001b[38;5;124mf\u001b[39m\u001b[38;5;124m\"\u001b[39m\u001b[38;5;124mIPython won\u001b[39m\u001b[38;5;124m'\u001b[39m\u001b[38;5;124mt let you open fd=\u001b[39m\u001b[38;5;132;01m{\u001b[39;00mfile\u001b[38;5;132;01m}\u001b[39;00m\u001b[38;5;124m by default \u001b[39m\u001b[38;5;124m\"\u001b[39m\n\u001b[0;32m    280\u001b[0m         \u001b[38;5;124m\"\u001b[39m\u001b[38;5;124mas it is likely to crash IPython. If you know what you are doing, \u001b[39m\u001b[38;5;124m\"\u001b[39m\n\u001b[0;32m    281\u001b[0m         \u001b[38;5;124m\"\u001b[39m\u001b[38;5;124myou can use builtins\u001b[39m\u001b[38;5;124m'\u001b[39m\u001b[38;5;124m open.\u001b[39m\u001b[38;5;124m\"\u001b[39m\n\u001b[0;32m    282\u001b[0m     )\n\u001b[1;32m--> 284\u001b[0m \u001b[38;5;28;01mreturn\u001b[39;00m io_open(file, \u001b[38;5;241m*\u001b[39margs, \u001b[38;5;241m*\u001b[39m\u001b[38;5;241m*\u001b[39mkwargs)\n",
      "\u001b[1;31mFileNotFoundError\u001b[0m: [Errno 2] No such file or directory: 'syn.yaml'"
     ]
    }
   ],
   "source": [
    "class YAMLword_syn_replacer(word_syn_replacer):\n",
    "    def __init__(self, fname):\n",
    "        word_map = yaml.load(open(fname))\n",
    "        super(YAMLword_syn_replacer, self).__init__(word_map)\n",
    "\n",
    "rep_syn = YAMLword_syn_replacer('syn.yaml')\n",
    "print(rep_syn.replace('bday'))"
   ]
  },
  {
   "cell_type": "code",
   "execution_count": 10,
   "id": "fe3948e1",
   "metadata": {},
   "outputs": [
    {
     "name": "stdout",
     "output_type": "stream",
     "text": [
      "beautify\n",
      "['Let us', 'beautify', 'our', 'country']\n"
     ]
    }
   ],
   "source": [
    "class word_antonym_replacer(object):\n",
    "    def replace(self, word, pos=None):\n",
    "        antonyms = set()\n",
    "        for syn in wordnet.synsets(word, pos=pos):\n",
    "            for lemma in syn.lemmas():\n",
    "                for antonym in lemma.antonyms():\n",
    "                    antonyms.add(antonym.name())\n",
    "        if len(antonyms) == 1:\n",
    "            return antonyms.pop()\n",
    "        else:\n",
    "            return None\n",
    "\n",
    "    def replace_negations(self, sent):\n",
    "        i, l = 0, len(sent)\n",
    "        words = []\n",
    "        while i < l:\n",
    "            word = sent[i]\n",
    "            if word == 'not' and i+1 < l:\n",
    "                ant = self.replace(sent[i+1])\n",
    "                if ant:\n",
    "                    words.append(ant)\n",
    "                i += 2\n",
    "                continue\n",
    "            words.append(word)\n",
    "            i += 1\n",
    "        return words\n",
    "\n",
    "rep_antonym = word_antonym_replacer()\n",
    "print(rep_antonym.replace('uglify'))\n",
    "\n",
    "sentence = [\"Let us\", \"not\", \"uglify\", \"our\", \"country\"]\n",
    "print(rep_antonym.replace_negations(sentence))"
   ]
  },
  {
   "cell_type": "code",
   "execution_count": null,
   "id": "d392be02",
   "metadata": {},
   "outputs": [],
   "source": []
  }
 ],
 "metadata": {
  "kernelspec": {
   "display_name": "Python 3 (ipykernel)",
   "language": "python",
   "name": "python3"
  },
  "language_info": {
   "codemirror_mode": {
    "name": "ipython",
    "version": 3
   },
   "file_extension": ".py",
   "mimetype": "text/x-python",
   "name": "python",
   "nbconvert_exporter": "python",
   "pygments_lexer": "ipython3",
   "version": "3.12.0"
  }
 },
 "nbformat": 4,
 "nbformat_minor": 5
}
