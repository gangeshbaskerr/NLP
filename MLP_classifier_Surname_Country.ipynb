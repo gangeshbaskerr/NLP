{
 "cells": [
  {
   "cell_type": "code",
   "execution_count": 1,
   "id": "4ceaf650",
   "metadata": {
    "id": "4ceaf650"
   },
   "outputs": [],
   "source": [
    "import pandas as pd\n",
    "import string"
   ]
  },
  {
   "cell_type": "code",
   "execution_count": 2,
   "id": "a62e40d9",
   "metadata": {
    "id": "a62e40d9"
   },
   "outputs": [],
   "source": [
    "df = pd.read_csv('final_all_names_code.csv')"
   ]
  },
  {
   "cell_type": "code",
   "execution_count": 3,
   "id": "8966cbf3",
   "metadata": {
    "colab": {
     "base_uri": "https://localhost:8080/"
    },
    "id": "8966cbf3",
    "outputId": "363304c9-d4c9-4b98-b013-f858403d15b1"
   },
   "outputs": [
    {
     "data": {
      "text/plain": [
       "(404062, 3)"
      ]
     },
     "execution_count": 3,
     "metadata": {},
     "output_type": "execute_result"
    }
   ],
   "source": [
    "df.shape"
   ]
  },
  {
   "cell_type": "code",
   "execution_count": 4,
   "id": "735515ae",
   "metadata": {
    "colab": {
     "base_uri": "https://localhost:8080/"
    },
    "id": "735515ae",
    "outputId": "1bda30ff-c853-4ae4-fb2a-c99ec7f1a050"
   },
   "outputs": [
    {
     "data": {
      "text/plain": [
       "78"
      ]
     },
     "execution_count": 4,
     "metadata": {},
     "output_type": "execute_result"
    }
   ],
   "source": [
    "len(df['Country_code'].unique())"
   ]
  },
  {
   "cell_type": "code",
   "execution_count": 5,
   "id": "8c9f8aa1",
   "metadata": {},
   "outputs": [
    {
     "data": {
      "text/plain": [
       "63"
      ]
     },
     "execution_count": 5,
     "metadata": {},
     "output_type": "execute_result"
    }
   ],
   "source": [
    "len(df['Country'].unique())"
   ]
  },
  {
   "cell_type": "code",
   "execution_count": 6,
   "id": "33d4be17",
   "metadata": {},
   "outputs": [
    {
     "data": {
      "text/plain": [
       "Country_code\n",
       "en_IE    6212\n",
       "nl_NL    6206\n",
       "es_MX    6193\n",
       "th       6189\n",
       "ga_IE    6156\n",
       "         ... \n",
       "tl_PH    3425\n",
       "nl_BE    3412\n",
       "sk_SK    3325\n",
       "ko_KR    3178\n",
       "ta_IN    2992\n",
       "Name: count, Length: 78, dtype: int64"
      ]
     },
     "execution_count": 6,
     "metadata": {},
     "output_type": "execute_result"
    }
   ],
   "source": [
    "df['Country_code'].value_counts()"
   ]
  },
  {
   "cell_type": "code",
   "execution_count": 7,
   "id": "89b3cabc",
   "metadata": {},
   "outputs": [
    {
     "data": {
      "text/plain": [
       "Country\n",
       "TH    17326\n",
       "IN    16573\n",
       "CA    16497\n",
       "CH    15719\n",
       "IE    12368\n",
       "      ...  \n",
       "LU     3623\n",
       "MT     3478\n",
       "BE     3412\n",
       "SK     3325\n",
       "KR     3178\n",
       "Name: count, Length: 63, dtype: int64"
      ]
     },
     "execution_count": 7,
     "metadata": {},
     "output_type": "execute_result"
    }
   ],
   "source": [
    "df['Country'].value_counts()"
   ]
  },
  {
   "cell_type": "code",
   "execution_count": 8,
   "id": "dbe1031b",
   "metadata": {
    "id": "dbe1031b"
   },
   "outputs": [],
   "source": [
    "columns=list(string.ascii_lowercase) + ['Country_code', 'Country']\n",
    "newdf = pd.DataFrame(columns=columns)"
   ]
  },
  {
   "cell_type": "code",
   "execution_count": 9,
   "id": "46a3e318",
   "metadata": {},
   "outputs": [
    {
     "data": {
      "text/html": [
       "<div>\n",
       "<style scoped>\n",
       "    .dataframe tbody tr th:only-of-type {\n",
       "        vertical-align: middle;\n",
       "    }\n",
       "\n",
       "    .dataframe tbody tr th {\n",
       "        vertical-align: top;\n",
       "    }\n",
       "\n",
       "    .dataframe thead th {\n",
       "        text-align: right;\n",
       "    }\n",
       "</style>\n",
       "<table border=\"1\" class=\"dataframe\">\n",
       "  <thead>\n",
       "    <tr style=\"text-align: right;\">\n",
       "      <th></th>\n",
       "      <th>a</th>\n",
       "      <th>b</th>\n",
       "      <th>c</th>\n",
       "      <th>d</th>\n",
       "      <th>e</th>\n",
       "      <th>f</th>\n",
       "      <th>g</th>\n",
       "      <th>h</th>\n",
       "      <th>i</th>\n",
       "      <th>j</th>\n",
       "      <th>...</th>\n",
       "      <th>s</th>\n",
       "      <th>t</th>\n",
       "      <th>u</th>\n",
       "      <th>v</th>\n",
       "      <th>w</th>\n",
       "      <th>x</th>\n",
       "      <th>y</th>\n",
       "      <th>z</th>\n",
       "      <th>Country_code</th>\n",
       "      <th>Country</th>\n",
       "    </tr>\n",
       "  </thead>\n",
       "  <tbody>\n",
       "  </tbody>\n",
       "</table>\n",
       "<p>0 rows × 28 columns</p>\n",
       "</div>"
      ],
      "text/plain": [
       "Empty DataFrame\n",
       "Columns: [a, b, c, d, e, f, g, h, i, j, k, l, m, n, o, p, q, r, s, t, u, v, w, x, y, z, Country_code, Country]\n",
       "Index: []\n",
       "\n",
       "[0 rows x 28 columns]"
      ]
     },
     "execution_count": 9,
     "metadata": {},
     "output_type": "execute_result"
    }
   ],
   "source": [
    "newdf"
   ]
  },
  {
   "cell_type": "code",
   "execution_count": 10,
   "id": "E8NHApDgkRmx",
   "metadata": {
    "id": "E8NHApDgkRmx"
   },
   "outputs": [],
   "source": [
    "ind = 0\n",
    "name = df['Name'][ind]"
   ]
  },
  {
   "cell_type": "code",
   "execution_count": 11,
   "id": "O8DM2i-AnfTh",
   "metadata": {
    "id": "O8DM2i-AnfTh"
   },
   "outputs": [],
   "source": [
    "Hash_arrays = []\n",
    "for ind in range(10000):\n",
    "    name = df['Name'][ind]\n",
    "    nameLst = str(name).split(' ')\n",
    "    lastName = nameLst[-1].lower()\n",
    "    chars = dict.fromkeys(columns, 0)\n",
    "    for i in lastName:\n",
    "        chars[i] = 1\n",
    "    chars['Country_code'] = df['Country_code'][ind]\n",
    "    chars['Country'] = df['Country'][ind]\n",
    "    Hash_arrays.append(chars)                   # storing all the dictionaries into list\n",
    "auxiliary_df = pd.DataFrame(Hash_arrays)              # converting\n",
    "newdf = pd.concat([newdf, auxiliary_df], ignore_index=True)   #concatenating\n"
   ]
  },
  {
   "cell_type": "code",
   "execution_count": 12,
   "id": "0eecfb59",
   "metadata": {
    "colab": {
     "base_uri": "https://localhost:8080/"
    },
    "id": "0eecfb59",
    "outputId": "951cf65b-a48b-4ce7-db0c-c3a92953c3d3"
   },
   "outputs": [
    {
     "data": {
      "text/plain": [
       "0       AE\n",
       "1       AE\n",
       "2       AE\n",
       "3       AE\n",
       "4       AE\n",
       "        ..\n",
       "9995    EG\n",
       "9996    EG\n",
       "9997    EG\n",
       "9998    EG\n",
       "9999    EG\n",
       "Name: Country, Length: 10000, dtype: object"
      ]
     },
     "execution_count": 12,
     "metadata": {},
     "output_type": "execute_result"
    }
   ],
   "source": [
    "newdf['Country']"
   ]
  },
  {
   "cell_type": "code",
   "execution_count": 13,
   "id": "48f9c747",
   "metadata": {
    "colab": {
     "base_uri": "https://localhost:8080/",
     "height": 235
    },
    "id": "48f9c747",
    "outputId": "b0fcd770-f2b7-4839-cc9a-98f22e9e004d"
   },
   "outputs": [
    {
     "data": {
      "text/html": [
       "<div>\n",
       "<style scoped>\n",
       "    .dataframe tbody tr th:only-of-type {\n",
       "        vertical-align: middle;\n",
       "    }\n",
       "\n",
       "    .dataframe tbody tr th {\n",
       "        vertical-align: top;\n",
       "    }\n",
       "\n",
       "    .dataframe thead th {\n",
       "        text-align: right;\n",
       "    }\n",
       "</style>\n",
       "<table border=\"1\" class=\"dataframe\">\n",
       "  <thead>\n",
       "    <tr style=\"text-align: right;\">\n",
       "      <th></th>\n",
       "      <th>a</th>\n",
       "      <th>b</th>\n",
       "      <th>c</th>\n",
       "      <th>d</th>\n",
       "      <th>e</th>\n",
       "      <th>f</th>\n",
       "      <th>g</th>\n",
       "      <th>h</th>\n",
       "      <th>i</th>\n",
       "      <th>j</th>\n",
       "      <th>...</th>\n",
       "      <th>t</th>\n",
       "      <th>u</th>\n",
       "      <th>v</th>\n",
       "      <th>w</th>\n",
       "      <th>x</th>\n",
       "      <th>y</th>\n",
       "      <th>z</th>\n",
       "      <th>Country_code</th>\n",
       "      <th>Country</th>\n",
       "      <th>.</th>\n",
       "    </tr>\n",
       "  </thead>\n",
       "  <tbody>\n",
       "    <tr>\n",
       "      <th>0</th>\n",
       "      <td>0</td>\n",
       "      <td>0</td>\n",
       "      <td>0</td>\n",
       "      <td>0</td>\n",
       "      <td>0</td>\n",
       "      <td>0</td>\n",
       "      <td>0</td>\n",
       "      <td>1</td>\n",
       "      <td>0</td>\n",
       "      <td>1</td>\n",
       "      <td>...</td>\n",
       "      <td>0</td>\n",
       "      <td>0</td>\n",
       "      <td>0</td>\n",
       "      <td>0</td>\n",
       "      <td>0</td>\n",
       "      <td>0</td>\n",
       "      <td>0</td>\n",
       "      <td>ar_AE</td>\n",
       "      <td>AE</td>\n",
       "      <td>NaN</td>\n",
       "    </tr>\n",
       "    <tr>\n",
       "      <th>1</th>\n",
       "      <td>0</td>\n",
       "      <td>0</td>\n",
       "      <td>0</td>\n",
       "      <td>0</td>\n",
       "      <td>0</td>\n",
       "      <td>0</td>\n",
       "      <td>1</td>\n",
       "      <td>1</td>\n",
       "      <td>1</td>\n",
       "      <td>0</td>\n",
       "      <td>...</td>\n",
       "      <td>1</td>\n",
       "      <td>0</td>\n",
       "      <td>0</td>\n",
       "      <td>1</td>\n",
       "      <td>0</td>\n",
       "      <td>0</td>\n",
       "      <td>0</td>\n",
       "      <td>ar_AE</td>\n",
       "      <td>AE</td>\n",
       "      <td>NaN</td>\n",
       "    </tr>\n",
       "    <tr>\n",
       "      <th>2</th>\n",
       "      <td>0</td>\n",
       "      <td>0</td>\n",
       "      <td>0</td>\n",
       "      <td>1</td>\n",
       "      <td>0</td>\n",
       "      <td>0</td>\n",
       "      <td>0</td>\n",
       "      <td>0</td>\n",
       "      <td>0</td>\n",
       "      <td>0</td>\n",
       "      <td>...</td>\n",
       "      <td>0</td>\n",
       "      <td>0</td>\n",
       "      <td>0</td>\n",
       "      <td>0</td>\n",
       "      <td>0</td>\n",
       "      <td>0</td>\n",
       "      <td>0</td>\n",
       "      <td>ar_AE</td>\n",
       "      <td>AE</td>\n",
       "      <td>NaN</td>\n",
       "    </tr>\n",
       "    <tr>\n",
       "      <th>3</th>\n",
       "      <td>0</td>\n",
       "      <td>1</td>\n",
       "      <td>0</td>\n",
       "      <td>0</td>\n",
       "      <td>0</td>\n",
       "      <td>0</td>\n",
       "      <td>0</td>\n",
       "      <td>0</td>\n",
       "      <td>1</td>\n",
       "      <td>0</td>\n",
       "      <td>...</td>\n",
       "      <td>0</td>\n",
       "      <td>0</td>\n",
       "      <td>0</td>\n",
       "      <td>0</td>\n",
       "      <td>0</td>\n",
       "      <td>0</td>\n",
       "      <td>0</td>\n",
       "      <td>ar_AE</td>\n",
       "      <td>AE</td>\n",
       "      <td>NaN</td>\n",
       "    </tr>\n",
       "    <tr>\n",
       "      <th>4</th>\n",
       "      <td>0</td>\n",
       "      <td>0</td>\n",
       "      <td>0</td>\n",
       "      <td>0</td>\n",
       "      <td>1</td>\n",
       "      <td>0</td>\n",
       "      <td>1</td>\n",
       "      <td>0</td>\n",
       "      <td>0</td>\n",
       "      <td>0</td>\n",
       "      <td>...</td>\n",
       "      <td>1</td>\n",
       "      <td>0</td>\n",
       "      <td>0</td>\n",
       "      <td>0</td>\n",
       "      <td>0</td>\n",
       "      <td>1</td>\n",
       "      <td>0</td>\n",
       "      <td>ar_AE</td>\n",
       "      <td>AE</td>\n",
       "      <td>NaN</td>\n",
       "    </tr>\n",
       "  </tbody>\n",
       "</table>\n",
       "<p>5 rows × 29 columns</p>\n",
       "</div>"
      ],
      "text/plain": [
       "   a  b  c  d  e  f  g  h  i  j  ...  t  u  v  w  x  y  z Country_code  \\\n",
       "0  0  0  0  0  0  0  0  1  0  1  ...  0  0  0  0  0  0  0        ar_AE   \n",
       "1  0  0  0  0  0  0  1  1  1  0  ...  1  0  0  1  0  0  0        ar_AE   \n",
       "2  0  0  0  1  0  0  0  0  0  0  ...  0  0  0  0  0  0  0        ar_AE   \n",
       "3  0  1  0  0  0  0  0  0  1  0  ...  0  0  0  0  0  0  0        ar_AE   \n",
       "4  0  0  0  0  1  0  1  0  0  0  ...  1  0  0  0  0  1  0        ar_AE   \n",
       "\n",
       "  Country   .  \n",
       "0      AE NaN  \n",
       "1      AE NaN  \n",
       "2      AE NaN  \n",
       "3      AE NaN  \n",
       "4      AE NaN  \n",
       "\n",
       "[5 rows x 29 columns]"
      ]
     },
     "execution_count": 13,
     "metadata": {},
     "output_type": "execute_result"
    }
   ],
   "source": [
    "newdf.head()"
   ]
  },
  {
   "cell_type": "code",
   "execution_count": 14,
   "id": "0d3bcdf5",
   "metadata": {},
   "outputs": [
    {
     "data": {
      "text/plain": [
       "Index(['a', 'b', 'c', 'd', 'e', 'f', 'g', 'h', 'i', 'j', 'k', 'l', 'm', 'n',\n",
       "       'o', 'p', 'q', 'r', 's', 't', 'u', 'v', 'w', 'x', 'y', 'z',\n",
       "       'Country_code', 'Country', '.'],\n",
       "      dtype='object')"
      ]
     },
     "execution_count": 14,
     "metadata": {},
     "output_type": "execute_result"
    }
   ],
   "source": [
    "newdf.columns"
   ]
  },
  {
   "cell_type": "code",
   "execution_count": 15,
   "id": "ca204784",
   "metadata": {},
   "outputs": [],
   "source": [
    "newdf.drop(['.'], axis = 1, inplace = True)"
   ]
  },
  {
   "cell_type": "code",
   "execution_count": 16,
   "id": "2ff2a721",
   "metadata": {},
   "outputs": [
    {
     "data": {
      "text/html": [
       "<div>\n",
       "<style scoped>\n",
       "    .dataframe tbody tr th:only-of-type {\n",
       "        vertical-align: middle;\n",
       "    }\n",
       "\n",
       "    .dataframe tbody tr th {\n",
       "        vertical-align: top;\n",
       "    }\n",
       "\n",
       "    .dataframe thead th {\n",
       "        text-align: right;\n",
       "    }\n",
       "</style>\n",
       "<table border=\"1\" class=\"dataframe\">\n",
       "  <thead>\n",
       "    <tr style=\"text-align: right;\">\n",
       "      <th></th>\n",
       "      <th>a</th>\n",
       "      <th>b</th>\n",
       "      <th>c</th>\n",
       "      <th>d</th>\n",
       "      <th>e</th>\n",
       "      <th>f</th>\n",
       "      <th>g</th>\n",
       "      <th>h</th>\n",
       "      <th>i</th>\n",
       "      <th>j</th>\n",
       "      <th>...</th>\n",
       "      <th>s</th>\n",
       "      <th>t</th>\n",
       "      <th>u</th>\n",
       "      <th>v</th>\n",
       "      <th>w</th>\n",
       "      <th>x</th>\n",
       "      <th>y</th>\n",
       "      <th>z</th>\n",
       "      <th>Country_code</th>\n",
       "      <th>Country</th>\n",
       "    </tr>\n",
       "  </thead>\n",
       "  <tbody>\n",
       "    <tr>\n",
       "      <th>0</th>\n",
       "      <td>0</td>\n",
       "      <td>0</td>\n",
       "      <td>0</td>\n",
       "      <td>0</td>\n",
       "      <td>0</td>\n",
       "      <td>0</td>\n",
       "      <td>0</td>\n",
       "      <td>1</td>\n",
       "      <td>0</td>\n",
       "      <td>1</td>\n",
       "      <td>...</td>\n",
       "      <td>1</td>\n",
       "      <td>0</td>\n",
       "      <td>0</td>\n",
       "      <td>0</td>\n",
       "      <td>0</td>\n",
       "      <td>0</td>\n",
       "      <td>0</td>\n",
       "      <td>0</td>\n",
       "      <td>ar_AE</td>\n",
       "      <td>AE</td>\n",
       "    </tr>\n",
       "    <tr>\n",
       "      <th>1</th>\n",
       "      <td>0</td>\n",
       "      <td>0</td>\n",
       "      <td>0</td>\n",
       "      <td>0</td>\n",
       "      <td>0</td>\n",
       "      <td>0</td>\n",
       "      <td>1</td>\n",
       "      <td>1</td>\n",
       "      <td>1</td>\n",
       "      <td>0</td>\n",
       "      <td>...</td>\n",
       "      <td>0</td>\n",
       "      <td>1</td>\n",
       "      <td>0</td>\n",
       "      <td>0</td>\n",
       "      <td>1</td>\n",
       "      <td>0</td>\n",
       "      <td>0</td>\n",
       "      <td>0</td>\n",
       "      <td>ar_AE</td>\n",
       "      <td>AE</td>\n",
       "    </tr>\n",
       "    <tr>\n",
       "      <th>2</th>\n",
       "      <td>0</td>\n",
       "      <td>0</td>\n",
       "      <td>0</td>\n",
       "      <td>1</td>\n",
       "      <td>0</td>\n",
       "      <td>0</td>\n",
       "      <td>0</td>\n",
       "      <td>0</td>\n",
       "      <td>0</td>\n",
       "      <td>0</td>\n",
       "      <td>...</td>\n",
       "      <td>1</td>\n",
       "      <td>0</td>\n",
       "      <td>0</td>\n",
       "      <td>0</td>\n",
       "      <td>0</td>\n",
       "      <td>0</td>\n",
       "      <td>0</td>\n",
       "      <td>0</td>\n",
       "      <td>ar_AE</td>\n",
       "      <td>AE</td>\n",
       "    </tr>\n",
       "    <tr>\n",
       "      <th>3</th>\n",
       "      <td>0</td>\n",
       "      <td>1</td>\n",
       "      <td>0</td>\n",
       "      <td>0</td>\n",
       "      <td>0</td>\n",
       "      <td>0</td>\n",
       "      <td>0</td>\n",
       "      <td>0</td>\n",
       "      <td>1</td>\n",
       "      <td>0</td>\n",
       "      <td>...</td>\n",
       "      <td>1</td>\n",
       "      <td>0</td>\n",
       "      <td>0</td>\n",
       "      <td>0</td>\n",
       "      <td>0</td>\n",
       "      <td>0</td>\n",
       "      <td>0</td>\n",
       "      <td>0</td>\n",
       "      <td>ar_AE</td>\n",
       "      <td>AE</td>\n",
       "    </tr>\n",
       "    <tr>\n",
       "      <th>4</th>\n",
       "      <td>0</td>\n",
       "      <td>0</td>\n",
       "      <td>0</td>\n",
       "      <td>0</td>\n",
       "      <td>1</td>\n",
       "      <td>0</td>\n",
       "      <td>1</td>\n",
       "      <td>0</td>\n",
       "      <td>0</td>\n",
       "      <td>0</td>\n",
       "      <td>...</td>\n",
       "      <td>0</td>\n",
       "      <td>1</td>\n",
       "      <td>0</td>\n",
       "      <td>0</td>\n",
       "      <td>0</td>\n",
       "      <td>0</td>\n",
       "      <td>1</td>\n",
       "      <td>0</td>\n",
       "      <td>ar_AE</td>\n",
       "      <td>AE</td>\n",
       "    </tr>\n",
       "  </tbody>\n",
       "</table>\n",
       "<p>5 rows × 28 columns</p>\n",
       "</div>"
      ],
      "text/plain": [
       "   a  b  c  d  e  f  g  h  i  j  ...  s  t  u  v  w  x  y  z Country_code  \\\n",
       "0  0  0  0  0  0  0  0  1  0  1  ...  1  0  0  0  0  0  0  0        ar_AE   \n",
       "1  0  0  0  0  0  0  1  1  1  0  ...  0  1  0  0  1  0  0  0        ar_AE   \n",
       "2  0  0  0  1  0  0  0  0  0  0  ...  1  0  0  0  0  0  0  0        ar_AE   \n",
       "3  0  1  0  0  0  0  0  0  1  0  ...  1  0  0  0  0  0  0  0        ar_AE   \n",
       "4  0  0  0  0  1  0  1  0  0  0  ...  0  1  0  0  0  0  1  0        ar_AE   \n",
       "\n",
       "  Country  \n",
       "0      AE  \n",
       "1      AE  \n",
       "2      AE  \n",
       "3      AE  \n",
       "4      AE  \n",
       "\n",
       "[5 rows x 28 columns]"
      ]
     },
     "execution_count": 16,
     "metadata": {},
     "output_type": "execute_result"
    }
   ],
   "source": [
    "newdf.head()"
   ]
  },
  {
   "cell_type": "code",
   "execution_count": 17,
   "id": "730860b3",
   "metadata": {
    "id": "730860b3"
   },
   "outputs": [],
   "source": [
    "from sklearn.preprocessing import LabelEncoder"
   ]
  },
  {
   "cell_type": "code",
   "execution_count": 18,
   "id": "06b72dff",
   "metadata": {
    "id": "06b72dff"
   },
   "outputs": [],
   "source": [
    "X = newdf[list(string.ascii_lowercase)]\n",
    "Y = newdf['Country']"
   ]
  },
  {
   "cell_type": "code",
   "execution_count": 19,
   "id": "763eb65e",
   "metadata": {},
   "outputs": [
    {
     "data": {
      "text/html": [
       "<div>\n",
       "<style scoped>\n",
       "    .dataframe tbody tr th:only-of-type {\n",
       "        vertical-align: middle;\n",
       "    }\n",
       "\n",
       "    .dataframe tbody tr th {\n",
       "        vertical-align: top;\n",
       "    }\n",
       "\n",
       "    .dataframe thead th {\n",
       "        text-align: right;\n",
       "    }\n",
       "</style>\n",
       "<table border=\"1\" class=\"dataframe\">\n",
       "  <thead>\n",
       "    <tr style=\"text-align: right;\">\n",
       "      <th></th>\n",
       "      <th>a</th>\n",
       "      <th>b</th>\n",
       "      <th>c</th>\n",
       "      <th>d</th>\n",
       "      <th>e</th>\n",
       "      <th>f</th>\n",
       "      <th>g</th>\n",
       "      <th>h</th>\n",
       "      <th>i</th>\n",
       "      <th>j</th>\n",
       "      <th>...</th>\n",
       "      <th>q</th>\n",
       "      <th>r</th>\n",
       "      <th>s</th>\n",
       "      <th>t</th>\n",
       "      <th>u</th>\n",
       "      <th>v</th>\n",
       "      <th>w</th>\n",
       "      <th>x</th>\n",
       "      <th>y</th>\n",
       "      <th>z</th>\n",
       "    </tr>\n",
       "  </thead>\n",
       "  <tbody>\n",
       "    <tr>\n",
       "      <th>0</th>\n",
       "      <td>0</td>\n",
       "      <td>0</td>\n",
       "      <td>0</td>\n",
       "      <td>0</td>\n",
       "      <td>0</td>\n",
       "      <td>0</td>\n",
       "      <td>0</td>\n",
       "      <td>1</td>\n",
       "      <td>0</td>\n",
       "      <td>1</td>\n",
       "      <td>...</td>\n",
       "      <td>0</td>\n",
       "      <td>0</td>\n",
       "      <td>1</td>\n",
       "      <td>0</td>\n",
       "      <td>0</td>\n",
       "      <td>0</td>\n",
       "      <td>0</td>\n",
       "      <td>0</td>\n",
       "      <td>0</td>\n",
       "      <td>0</td>\n",
       "    </tr>\n",
       "    <tr>\n",
       "      <th>1</th>\n",
       "      <td>0</td>\n",
       "      <td>0</td>\n",
       "      <td>0</td>\n",
       "      <td>0</td>\n",
       "      <td>0</td>\n",
       "      <td>0</td>\n",
       "      <td>1</td>\n",
       "      <td>1</td>\n",
       "      <td>1</td>\n",
       "      <td>0</td>\n",
       "      <td>...</td>\n",
       "      <td>0</td>\n",
       "      <td>1</td>\n",
       "      <td>0</td>\n",
       "      <td>1</td>\n",
       "      <td>0</td>\n",
       "      <td>0</td>\n",
       "      <td>1</td>\n",
       "      <td>0</td>\n",
       "      <td>0</td>\n",
       "      <td>0</td>\n",
       "    </tr>\n",
       "    <tr>\n",
       "      <th>2</th>\n",
       "      <td>0</td>\n",
       "      <td>0</td>\n",
       "      <td>0</td>\n",
       "      <td>1</td>\n",
       "      <td>0</td>\n",
       "      <td>0</td>\n",
       "      <td>0</td>\n",
       "      <td>0</td>\n",
       "      <td>0</td>\n",
       "      <td>0</td>\n",
       "      <td>...</td>\n",
       "      <td>0</td>\n",
       "      <td>0</td>\n",
       "      <td>1</td>\n",
       "      <td>0</td>\n",
       "      <td>0</td>\n",
       "      <td>0</td>\n",
       "      <td>0</td>\n",
       "      <td>0</td>\n",
       "      <td>0</td>\n",
       "      <td>0</td>\n",
       "    </tr>\n",
       "    <tr>\n",
       "      <th>3</th>\n",
       "      <td>0</td>\n",
       "      <td>1</td>\n",
       "      <td>0</td>\n",
       "      <td>0</td>\n",
       "      <td>0</td>\n",
       "      <td>0</td>\n",
       "      <td>0</td>\n",
       "      <td>0</td>\n",
       "      <td>1</td>\n",
       "      <td>0</td>\n",
       "      <td>...</td>\n",
       "      <td>0</td>\n",
       "      <td>1</td>\n",
       "      <td>1</td>\n",
       "      <td>0</td>\n",
       "      <td>0</td>\n",
       "      <td>0</td>\n",
       "      <td>0</td>\n",
       "      <td>0</td>\n",
       "      <td>0</td>\n",
       "      <td>0</td>\n",
       "    </tr>\n",
       "    <tr>\n",
       "      <th>4</th>\n",
       "      <td>0</td>\n",
       "      <td>0</td>\n",
       "      <td>0</td>\n",
       "      <td>0</td>\n",
       "      <td>1</td>\n",
       "      <td>0</td>\n",
       "      <td>1</td>\n",
       "      <td>0</td>\n",
       "      <td>0</td>\n",
       "      <td>0</td>\n",
       "      <td>...</td>\n",
       "      <td>0</td>\n",
       "      <td>1</td>\n",
       "      <td>0</td>\n",
       "      <td>1</td>\n",
       "      <td>0</td>\n",
       "      <td>0</td>\n",
       "      <td>0</td>\n",
       "      <td>0</td>\n",
       "      <td>1</td>\n",
       "      <td>0</td>\n",
       "    </tr>\n",
       "    <tr>\n",
       "      <th>...</th>\n",
       "      <td>...</td>\n",
       "      <td>...</td>\n",
       "      <td>...</td>\n",
       "      <td>...</td>\n",
       "      <td>...</td>\n",
       "      <td>...</td>\n",
       "      <td>...</td>\n",
       "      <td>...</td>\n",
       "      <td>...</td>\n",
       "      <td>...</td>\n",
       "      <td>...</td>\n",
       "      <td>...</td>\n",
       "      <td>...</td>\n",
       "      <td>...</td>\n",
       "      <td>...</td>\n",
       "      <td>...</td>\n",
       "      <td>...</td>\n",
       "      <td>...</td>\n",
       "      <td>...</td>\n",
       "      <td>...</td>\n",
       "      <td>...</td>\n",
       "    </tr>\n",
       "    <tr>\n",
       "      <th>9995</th>\n",
       "      <td>1</td>\n",
       "      <td>0</td>\n",
       "      <td>0</td>\n",
       "      <td>0</td>\n",
       "      <td>0</td>\n",
       "      <td>0</td>\n",
       "      <td>0</td>\n",
       "      <td>0</td>\n",
       "      <td>1</td>\n",
       "      <td>0</td>\n",
       "      <td>...</td>\n",
       "      <td>0</td>\n",
       "      <td>1</td>\n",
       "      <td>1</td>\n",
       "      <td>0</td>\n",
       "      <td>0</td>\n",
       "      <td>0</td>\n",
       "      <td>0</td>\n",
       "      <td>0</td>\n",
       "      <td>0</td>\n",
       "      <td>0</td>\n",
       "    </tr>\n",
       "    <tr>\n",
       "      <th>9996</th>\n",
       "      <td>0</td>\n",
       "      <td>0</td>\n",
       "      <td>0</td>\n",
       "      <td>0</td>\n",
       "      <td>0</td>\n",
       "      <td>0</td>\n",
       "      <td>0</td>\n",
       "      <td>1</td>\n",
       "      <td>0</td>\n",
       "      <td>0</td>\n",
       "      <td>...</td>\n",
       "      <td>0</td>\n",
       "      <td>0</td>\n",
       "      <td>0</td>\n",
       "      <td>1</td>\n",
       "      <td>1</td>\n",
       "      <td>0</td>\n",
       "      <td>0</td>\n",
       "      <td>0</td>\n",
       "      <td>0</td>\n",
       "      <td>0</td>\n",
       "    </tr>\n",
       "    <tr>\n",
       "      <th>9997</th>\n",
       "      <td>1</td>\n",
       "      <td>0</td>\n",
       "      <td>0</td>\n",
       "      <td>0</td>\n",
       "      <td>0</td>\n",
       "      <td>0</td>\n",
       "      <td>0</td>\n",
       "      <td>1</td>\n",
       "      <td>1</td>\n",
       "      <td>0</td>\n",
       "      <td>...</td>\n",
       "      <td>0</td>\n",
       "      <td>0</td>\n",
       "      <td>0</td>\n",
       "      <td>1</td>\n",
       "      <td>0</td>\n",
       "      <td>0</td>\n",
       "      <td>0</td>\n",
       "      <td>0</td>\n",
       "      <td>0</td>\n",
       "      <td>0</td>\n",
       "    </tr>\n",
       "    <tr>\n",
       "      <th>9998</th>\n",
       "      <td>1</td>\n",
       "      <td>0</td>\n",
       "      <td>1</td>\n",
       "      <td>1</td>\n",
       "      <td>1</td>\n",
       "      <td>0</td>\n",
       "      <td>0</td>\n",
       "      <td>0</td>\n",
       "      <td>0</td>\n",
       "      <td>0</td>\n",
       "      <td>...</td>\n",
       "      <td>0</td>\n",
       "      <td>1</td>\n",
       "      <td>0</td>\n",
       "      <td>0</td>\n",
       "      <td>0</td>\n",
       "      <td>0</td>\n",
       "      <td>0</td>\n",
       "      <td>0</td>\n",
       "      <td>0</td>\n",
       "      <td>0</td>\n",
       "    </tr>\n",
       "    <tr>\n",
       "      <th>9999</th>\n",
       "      <td>1</td>\n",
       "      <td>0</td>\n",
       "      <td>0</td>\n",
       "      <td>1</td>\n",
       "      <td>1</td>\n",
       "      <td>0</td>\n",
       "      <td>0</td>\n",
       "      <td>1</td>\n",
       "      <td>0</td>\n",
       "      <td>0</td>\n",
       "      <td>...</td>\n",
       "      <td>0</td>\n",
       "      <td>1</td>\n",
       "      <td>0</td>\n",
       "      <td>0</td>\n",
       "      <td>0</td>\n",
       "      <td>0</td>\n",
       "      <td>0</td>\n",
       "      <td>0</td>\n",
       "      <td>0</td>\n",
       "      <td>1</td>\n",
       "    </tr>\n",
       "  </tbody>\n",
       "</table>\n",
       "<p>10000 rows × 26 columns</p>\n",
       "</div>"
      ],
      "text/plain": [
       "      a  b  c  d  e  f  g  h  i  j  ...  q  r  s  t  u  v  w  x  y  z\n",
       "0     0  0  0  0  0  0  0  1  0  1  ...  0  0  1  0  0  0  0  0  0  0\n",
       "1     0  0  0  0  0  0  1  1  1  0  ...  0  1  0  1  0  0  1  0  0  0\n",
       "2     0  0  0  1  0  0  0  0  0  0  ...  0  0  1  0  0  0  0  0  0  0\n",
       "3     0  1  0  0  0  0  0  0  1  0  ...  0  1  1  0  0  0  0  0  0  0\n",
       "4     0  0  0  0  1  0  1  0  0  0  ...  0  1  0  1  0  0  0  0  1  0\n",
       "...  .. .. .. .. .. .. .. .. .. ..  ... .. .. .. .. .. .. .. .. .. ..\n",
       "9995  1  0  0  0  0  0  0  0  1  0  ...  0  1  1  0  0  0  0  0  0  0\n",
       "9996  0  0  0  0  0  0  0  1  0  0  ...  0  0  0  1  1  0  0  0  0  0\n",
       "9997  1  0  0  0  0  0  0  1  1  0  ...  0  0  0  1  0  0  0  0  0  0\n",
       "9998  1  0  1  1  1  0  0  0  0  0  ...  0  1  0  0  0  0  0  0  0  0\n",
       "9999  1  0  0  1  1  0  0  1  0  0  ...  0  1  0  0  0  0  0  0  0  1\n",
       "\n",
       "[10000 rows x 26 columns]"
      ]
     },
     "execution_count": 19,
     "metadata": {},
     "output_type": "execute_result"
    }
   ],
   "source": [
    "X"
   ]
  },
  {
   "cell_type": "code",
   "execution_count": 20,
   "id": "7fe3afd4",
   "metadata": {},
   "outputs": [
    {
     "data": {
      "text/plain": [
       "0       AE\n",
       "1       AE\n",
       "2       AE\n",
       "3       AE\n",
       "4       AE\n",
       "        ..\n",
       "9995    EG\n",
       "9996    EG\n",
       "9997    EG\n",
       "9998    EG\n",
       "9999    EG\n",
       "Name: Country, Length: 10000, dtype: object"
      ]
     },
     "execution_count": 20,
     "metadata": {},
     "output_type": "execute_result"
    }
   ],
   "source": [
    "Y"
   ]
  },
  {
   "cell_type": "code",
   "execution_count": 21,
   "id": "74556760",
   "metadata": {
    "colab": {
     "base_uri": "https://localhost:8080/",
     "height": 423
    },
    "id": "74556760",
    "outputId": "6288eb23-27ad-4a4e-ba9b-76818680ecb7"
   },
   "outputs": [],
   "source": [
    "le = LabelEncoder()\n",
    "Y = le.fit_transform(Y)"
   ]
  },
  {
   "cell_type": "code",
   "execution_count": 22,
   "id": "2146c7e2",
   "metadata": {},
   "outputs": [],
   "source": [
    "from sklearn.preprocessing import StandardScaler\n",
    "X = StandardScaler().fit_transform(X)"
   ]
  },
  {
   "cell_type": "code",
   "execution_count": 23,
   "id": "47a755b4",
   "metadata": {},
   "outputs": [
    {
     "data": {
      "text/plain": [
       "array([[-0.92593473, -0.36118478, -0.451928  , ..., -0.09476245,\n",
       "        -0.33370358, -0.30243139],\n",
       "       [-0.92593473, -0.36118478, -0.451928  , ..., -0.09476245,\n",
       "        -0.33370358, -0.30243139],\n",
       "       [-0.92593473, -0.36118478, -0.451928  , ..., -0.09476245,\n",
       "        -0.33370358, -0.30243139],\n",
       "       ...,\n",
       "       [ 1.07998973, -0.36118478, -0.451928  , ..., -0.09476245,\n",
       "        -0.33370358, -0.30243139],\n",
       "       [ 1.07998973, -0.36118478,  2.21274183, ..., -0.09476245,\n",
       "        -0.33370358, -0.30243139],\n",
       "       [ 1.07998973, -0.36118478, -0.451928  , ..., -0.09476245,\n",
       "        -0.33370358,  3.30653508]])"
      ]
     },
     "execution_count": 23,
     "metadata": {},
     "output_type": "execute_result"
    }
   ],
   "source": [
    "X"
   ]
  },
  {
   "cell_type": "code",
   "execution_count": 24,
   "id": "f6711252",
   "metadata": {},
   "outputs": [
    {
     "data": {
      "text/plain": [
       "array(['AE', 'EG'], dtype=object)"
      ]
     },
     "execution_count": 24,
     "metadata": {},
     "output_type": "execute_result"
    }
   ],
   "source": [
    "newdf['Country'].unique()"
   ]
  },
  {
   "cell_type": "code",
   "execution_count": 25,
   "id": "e47499b0",
   "metadata": {},
   "outputs": [
    {
     "data": {
      "text/plain": [
       "Country\n",
       "AE    5913\n",
       "EG    4087\n",
       "Name: count, dtype: int64"
      ]
     },
     "execution_count": 25,
     "metadata": {},
     "output_type": "execute_result"
    }
   ],
   "source": [
    "newdf['Country'].value_counts()"
   ]
  },
  {
   "cell_type": "code",
   "execution_count": 26,
   "id": "53aed398",
   "metadata": {},
   "outputs": [],
   "source": [
    "from keras.models import Sequential\n",
    "from keras.layers import Dense"
   ]
  },
  {
   "cell_type": "code",
   "execution_count": 27,
   "id": "63ddabf0",
   "metadata": {
    "id": "63ddabf0"
   },
   "outputs": [],
   "source": [
    "from sklearn.model_selection import train_test_split\n",
    "X_train, X_test, Y_train, Y_test = train_test_split(X,Y, test_size=0.2, random_state=0)"
   ]
  },
  {
   "cell_type": "code",
   "execution_count": 28,
   "id": "41499d24",
   "metadata": {},
   "outputs": [
    {
     "name": "stdout",
     "output_type": "stream",
     "text": [
      "Iteration 1, loss = 0.67965596\n",
      "Iteration 2, loss = 0.67472067\n",
      "Iteration 3, loss = 0.67197430\n",
      "Iteration 4, loss = 0.67195900\n",
      "Iteration 5, loss = 0.66953382\n",
      "Iteration 6, loss = 0.67071608\n",
      "Iteration 7, loss = 0.66817739\n",
      "Iteration 8, loss = 0.66641137\n",
      "Iteration 9, loss = 0.66350029\n",
      "Iteration 10, loss = 0.66099737\n",
      "Iteration 11, loss = 0.65955512\n",
      "Iteration 12, loss = 0.65901083\n",
      "Iteration 13, loss = 0.65819770\n",
      "Iteration 14, loss = 0.65684889\n",
      "Iteration 15, loss = 0.65338588\n",
      "Iteration 16, loss = 0.65559444\n",
      "Iteration 17, loss = 0.65397804\n",
      "Iteration 18, loss = 0.65102891\n",
      "Iteration 19, loss = 0.65455976\n",
      "Iteration 20, loss = 0.65115278\n",
      "Iteration 21, loss = 0.64900956\n",
      "Iteration 22, loss = 0.64777335\n",
      "Iteration 23, loss = 0.64698374\n",
      "Iteration 24, loss = 0.64628128\n",
      "Iteration 25, loss = 0.64447743\n",
      "Iteration 26, loss = 0.64332285\n",
      "Iteration 27, loss = 0.64353348\n",
      "Iteration 28, loss = 0.64320656\n",
      "Iteration 29, loss = 0.64190233\n",
      "Iteration 30, loss = 0.64075836\n",
      "Iteration 31, loss = 0.64011629\n",
      "Iteration 32, loss = 0.63863854\n",
      "Iteration 33, loss = 0.63752164\n",
      "Iteration 34, loss = 0.63577860\n",
      "Iteration 35, loss = 0.63679949\n",
      "Iteration 36, loss = 0.63904415\n",
      "Iteration 37, loss = 0.63537105\n",
      "Iteration 38, loss = 0.63547526\n",
      "Iteration 39, loss = 0.63402615\n",
      "Iteration 40, loss = 0.63415378\n",
      "Iteration 41, loss = 0.63310030\n",
      "Iteration 42, loss = 0.63231481\n",
      "Iteration 43, loss = 0.63197827\n",
      "Iteration 44, loss = 0.62971184\n",
      "Iteration 45, loss = 0.63125294\n",
      "Iteration 46, loss = 0.63044792\n",
      "Iteration 47, loss = 0.62963418\n",
      "Iteration 48, loss = 0.62987114\n",
      "Iteration 49, loss = 0.63004316\n",
      "Iteration 50, loss = 0.62770801\n",
      "Iteration 51, loss = 0.63064433\n",
      "Iteration 52, loss = 0.62838444\n",
      "Iteration 53, loss = 0.62723953\n",
      "Iteration 54, loss = 0.62698285\n",
      "Iteration 55, loss = 0.62569538\n",
      "Iteration 56, loss = 0.62760803\n",
      "Iteration 57, loss = 0.62630682\n",
      "Iteration 58, loss = 0.62641925\n",
      "Iteration 59, loss = 0.62407640\n",
      "Iteration 60, loss = 0.62579911\n",
      "Iteration 61, loss = 0.62596272\n",
      "Iteration 62, loss = 0.62487859\n",
      "Iteration 63, loss = 0.62360924\n",
      "Iteration 64, loss = 0.62454619\n",
      "Iteration 65, loss = 0.62363193\n",
      "Iteration 66, loss = 0.62467684\n",
      "Iteration 67, loss = 0.62376445\n",
      "Iteration 68, loss = 0.62366040\n",
      "Iteration 69, loss = 0.62416298\n",
      "Iteration 70, loss = 0.62408077\n",
      "Iteration 71, loss = 0.62241868\n",
      "Iteration 72, loss = 0.62278635\n",
      "Iteration 73, loss = 0.62320766\n",
      "Iteration 74, loss = 0.62197273\n",
      "Iteration 75, loss = 0.62328619\n",
      "Iteration 76, loss = 0.62158682\n",
      "Iteration 77, loss = 0.62138926\n",
      "Iteration 78, loss = 0.62151343\n",
      "Iteration 79, loss = 0.62167593\n",
      "Iteration 80, loss = 0.62192229\n",
      "Iteration 81, loss = 0.62166914\n",
      "Iteration 82, loss = 0.62196692\n",
      "Iteration 83, loss = 0.62236578\n",
      "Iteration 84, loss = 0.62247464\n",
      "Iteration 85, loss = 0.61982544\n",
      "Iteration 86, loss = 0.62048181\n",
      "Iteration 87, loss = 0.62152581\n",
      "Iteration 88, loss = 0.61934731\n",
      "Iteration 89, loss = 0.62039468\n",
      "Iteration 90, loss = 0.61966828\n",
      "Iteration 91, loss = 0.61940010\n",
      "Iteration 92, loss = 0.62017534\n",
      "Iteration 93, loss = 0.62086196\n",
      "Iteration 94, loss = 0.61991526\n",
      "Iteration 95, loss = 0.62111697\n",
      "Iteration 96, loss = 0.62017535\n",
      "Iteration 97, loss = 0.62054494\n",
      "Iteration 98, loss = 0.61953403\n",
      "Iteration 99, loss = 0.62310455\n",
      "Iteration 100, loss = 0.62119075\n",
      "Iteration 101, loss = 0.62011972\n",
      "Iteration 102, loss = 0.61896727\n",
      "Iteration 103, loss = 0.61909023\n",
      "Iteration 104, loss = 0.61893210\n",
      "Iteration 105, loss = 0.61929310\n",
      "Iteration 106, loss = 0.61892551\n",
      "Iteration 107, loss = 0.61847051\n",
      "Iteration 108, loss = 0.61946980\n",
      "Iteration 109, loss = 0.61848570\n",
      "Iteration 110, loss = 0.61791587\n",
      "Iteration 111, loss = 0.61776108\n",
      "Iteration 112, loss = 0.61920400\n",
      "Iteration 113, loss = 0.61875310\n",
      "Iteration 114, loss = 0.61841763\n",
      "Iteration 115, loss = 0.61883825\n",
      "Iteration 116, loss = 0.61858333\n",
      "Iteration 117, loss = 0.61750852\n",
      "Iteration 118, loss = 0.61838378\n",
      "Iteration 119, loss = 0.61784784\n",
      "Iteration 120, loss = 0.62086643\n",
      "Iteration 121, loss = 0.61927605\n",
      "Iteration 122, loss = 0.61973055\n",
      "Iteration 123, loss = 0.61775794\n",
      "Iteration 124, loss = 0.61900599\n",
      "Iteration 125, loss = 0.61891380\n",
      "Iteration 126, loss = 0.61805162\n",
      "Iteration 127, loss = 0.61724398\n",
      "Iteration 128, loss = 0.61685996\n",
      "Iteration 129, loss = 0.61742625\n",
      "Iteration 130, loss = 0.61672111\n",
      "Iteration 131, loss = 0.61802165\n",
      "Iteration 132, loss = 0.61847275\n",
      "Iteration 133, loss = 0.61658481\n",
      "Iteration 134, loss = 0.61770494\n",
      "Iteration 135, loss = 0.61696472\n",
      "Iteration 136, loss = 0.61874904\n",
      "Iteration 137, loss = 0.61760944\n",
      "Iteration 138, loss = 0.61786695\n",
      "Iteration 139, loss = 0.61792623\n",
      "Iteration 140, loss = 0.61839905\n",
      "Iteration 141, loss = 0.61746212\n",
      "Iteration 142, loss = 0.61869676\n",
      "Iteration 143, loss = 0.61877947\n",
      "Iteration 144, loss = 0.61832697\n",
      "Iteration 145, loss = 0.61675629\n",
      "Iteration 146, loss = 0.61953618\n",
      "Iteration 147, loss = 0.61931960\n",
      "Iteration 148, loss = 0.61722638\n",
      "Iteration 149, loss = 0.61772524\n",
      "Iteration 150, loss = 0.61664759\n",
      "Iteration 151, loss = 0.61796221\n",
      "Iteration 152, loss = 0.61797078\n",
      "Iteration 153, loss = 0.61778741\n",
      "Iteration 154, loss = 0.61699141\n",
      "Iteration 155, loss = 0.61618983\n",
      "Iteration 156, loss = 0.61949288\n",
      "Iteration 157, loss = 0.61991292\n",
      "Iteration 158, loss = 0.61927662\n",
      "Iteration 159, loss = 0.61651695\n",
      "Iteration 160, loss = 0.61561936\n",
      "Iteration 161, loss = 0.61707407\n",
      "Iteration 162, loss = 0.61763075\n",
      "Iteration 163, loss = 0.61501125\n",
      "Iteration 164, loss = 0.61642093\n",
      "Iteration 165, loss = 0.61518599\n",
      "Iteration 166, loss = 0.61610666\n",
      "Iteration 167, loss = 0.61549810\n",
      "Iteration 168, loss = 0.61492375\n",
      "Iteration 169, loss = 0.61697231\n",
      "Iteration 170, loss = 0.61996311\n",
      "Iteration 171, loss = 0.61769423\n",
      "Iteration 172, loss = 0.61519244\n",
      "Iteration 173, loss = 0.61730291\n",
      "Iteration 174, loss = 0.61744271\n",
      "Iteration 175, loss = 0.61930680\n",
      "Iteration 176, loss = 0.61740983\n",
      "Iteration 177, loss = 0.61820481\n",
      "Iteration 178, loss = 0.61633075\n",
      "Iteration 179, loss = 0.61622410\n",
      "Iteration 180, loss = 0.61689071\n",
      "Iteration 181, loss = 0.61681880\n",
      "Iteration 182, loss = 0.61604944\n",
      "Iteration 183, loss = 0.61537895\n",
      "Iteration 184, loss = 0.61619279\n",
      "Iteration 185, loss = 0.61536390\n",
      "Iteration 186, loss = 0.61549291\n",
      "Iteration 187, loss = 0.61633161\n",
      "Iteration 188, loss = 0.61589059\n",
      "Iteration 189, loss = 0.61511823\n",
      "Iteration 190, loss = 0.61886937\n",
      "Iteration 191, loss = 0.61621916\n",
      "Iteration 192, loss = 0.61611754\n",
      "Iteration 193, loss = 0.61666429\n",
      "Iteration 194, loss = 0.61588246\n",
      "Training loss did not improve more than tol=0.000100 for 30 consecutive epochs. Stopping.\n"
     ]
    },
    {
     "data": {
      "text/plain": [
       "0.558"
      ]
     },
     "execution_count": 28,
     "metadata": {},
     "output_type": "execute_result"
    }
   ],
   "source": [
    "from sklearn.neural_network import MLPClassifier\n",
    "\n",
    "# Create an MLPClassifier with 3 hidden layers\n",
    "# Specify the number of neurons in each hidden layer\n",
    "# You can adjust the hidden_layer_sizes parameter to define the structure of the hidden layers\n",
    "# For example, (100, 50, 30) means three hidden layers with 100, 50 and 30 neurons, respectively\n",
    "mlp = MLPClassifier(hidden_layer_sizes=(100, 50, 30), activation='relu', solver='adam', random_state=42,verbose=True,\n",
    "                   learning_rate_init=0.01,n_iter_no_change=30,max_iter=200)\n",
    "\n",
    "# You can also set other hyperparameters like activation function, solver, etc.\n",
    "\n",
    "# Fit the model to your training data\n",
    "mlp.fit(X_train, Y_train)\n",
    "\n",
    "# Make predictions\n",
    "Y_pred = mlp.predict(X_test)\n",
    "from sklearn.metrics import accuracy_score\n",
    "accuracy_score(Y_test, Y_pred)"
   ]
  },
  {
   "cell_type": "code",
   "execution_count": 29,
   "id": "448177a3",
   "metadata": {},
   "outputs": [
    {
     "data": {
      "image/png": "[encoded data removed]",
      "text/plain": [
       "<Figure size 640x480 with 2 Axes>"
      ]
     },
     "metadata": {},
     "output_type": "display_data"
    }
   ],
   "source": [
    "import matplotlib.pyplot as plt\n",
    "from sklearn.metrics import confusion_matrix, ConfusionMatrixDisplay\n",
    "\n",
    "cm = confusion_matrix(Y_test, Y_pred, labels=mlp.classes_)\n",
    "disp = ConfusionMatrixDisplay(confusion_matrix=cm, display_labels=mlp.classes_)\n",
    "disp.plot()\n",
    "plt.show()"
   ]
  },
  {
   "cell_type": "code",
   "execution_count": 32,
   "id": "775100b6-5a7b-4b6f-9cfb-b399d22e7854",
   "metadata": {},
   "outputs": [
    {
     "name": "stdout",
     "output_type": "stream",
     "text": [
      "              precision    recall  f1-score   support\n",
      "\n",
      "           0       0.59      0.81      0.68      1173\n",
      "           1       0.43      0.20      0.27       827\n",
      "\n",
      "    accuracy                           0.56      2000\n",
      "   macro avg       0.51      0.50      0.48      2000\n",
      "weighted avg       0.52      0.56      0.51      2000\n",
      "\n"
     ]
    }
   ],
   "source": [
    "from sklearn.metrics import classification_report\n",
    "print(classification_report(Y_test, Y_pred))"
   ]
  },
  {
   "cell_type": "code",
   "execution_count": 36,
   "id": "08b76f84-ecbe-4d46-bad7-9c77fea8d869",
   "metadata": {},
   "outputs": [
    {
     "data": {
      "image/png": "[encoded data removed]",
      "text/plain": [
       "<Figure size 640x480 with 1 Axes>"
      ]
     },
     "metadata": {},
     "output_type": "display_data"
    }
   ],
   "source": [
    "import numpy as np\n",
    "\n",
    "# Access the loss curve\n",
    "loss_curve = mlp.loss_curve_\n",
    "\n",
    "# Plot the loss curve\n",
    "plt.plot(np.arange(len(loss_curve)), loss_curve)\n",
    "plt.title('Loss Curve')\n",
    "plt.xlabel('Number of Iterations')\n",
    "plt.ylabel('Loss')\n",
    "plt.show()"
   ]
  },
  {
   "cell_type": "code",
   "execution_count": 38,
   "id": "cffee39b-89ba-436e-8b33-8c481b0f2d7f",
   "metadata": {},
   "outputs": [
    {
     "ename": "ValueError",
     "evalue": "Found input variables with inconsistent numbers of samples: [2000, 4000]",
     "output_type": "error",
     "traceback": [
      "\u001b[1;31m---------------------------------------------------------------------------\u001b[0m",
      "\u001b[1;31mValueError\u001b[0m                                Traceback (most recent call last)",
      "Cell \u001b[1;32mIn[38], line 23\u001b[0m\n\u001b[0;32m     20\u001b[0m         \u001b[38;5;28;01mpass\u001b[39;00m  \u001b[38;5;66;03m# Ignore if there's an IndexError\u001b[39;00m\n\u001b[0;32m     22\u001b[0m \u001b[38;5;66;03m# Compute micro-average ROC curve and ROC area\u001b[39;00m\n\u001b[1;32m---> 23\u001b[0m fpr[\u001b[38;5;124m\"\u001b[39m\u001b[38;5;124mmicro\u001b[39m\u001b[38;5;124m\"\u001b[39m], tpr[\u001b[38;5;124m\"\u001b[39m\u001b[38;5;124mmicro\u001b[39m\u001b[38;5;124m\"\u001b[39m], _ \u001b[38;5;241m=\u001b[39m \u001b[43mroc_curve\u001b[49m\u001b[43m(\u001b[49m\u001b[43my_test_binarized\u001b[49m\u001b[38;5;241;43m.\u001b[39;49m\u001b[43mravel\u001b[49m\u001b[43m(\u001b[49m\u001b[43m)\u001b[49m\u001b[43m,\u001b[49m\u001b[43m \u001b[49m\u001b[43my_score\u001b[49m\u001b[38;5;241;43m.\u001b[39;49m\u001b[43mravel\u001b[49m\u001b[43m(\u001b[49m\u001b[43m)\u001b[49m\u001b[43m)\u001b[49m\n\u001b[0;32m     24\u001b[0m roc_auc[\u001b[38;5;124m\"\u001b[39m\u001b[38;5;124mmicro\u001b[39m\u001b[38;5;124m\"\u001b[39m] \u001b[38;5;241m=\u001b[39m auc(fpr[\u001b[38;5;124m\"\u001b[39m\u001b[38;5;124mmicro\u001b[39m\u001b[38;5;124m\"\u001b[39m], tpr[\u001b[38;5;124m\"\u001b[39m\u001b[38;5;124mmicro\u001b[39m\u001b[38;5;124m\"\u001b[39m])\n\u001b[0;32m     26\u001b[0m \u001b[38;5;66;03m# Plot ROC curve\u001b[39;00m\n",
      "File \u001b[1;32m~\\AppData\\Local\\Programs\\Python\\Python312\\Lib\\site-packages\\sklearn\\utils\\_param_validation.py:213\u001b[0m, in \u001b[0;36mvalidate_params.<locals>.decorator.<locals>.wrapper\u001b[1;34m(*args, **kwargs)\u001b[0m\n\u001b[0;32m    207\u001b[0m \u001b[38;5;28;01mtry\u001b[39;00m:\n\u001b[0;32m    208\u001b[0m     \u001b[38;5;28;01mwith\u001b[39;00m config_context(\n\u001b[0;32m    209\u001b[0m         skip_parameter_validation\u001b[38;5;241m=\u001b[39m(\n\u001b[0;32m    210\u001b[0m             prefer_skip_nested_validation \u001b[38;5;129;01mor\u001b[39;00m global_skip_validation\n\u001b[0;32m    211\u001b[0m         )\n\u001b[0;32m    212\u001b[0m     ):\n\u001b[1;32m--> 213\u001b[0m         \u001b[38;5;28;01mreturn\u001b[39;00m \u001b[43mfunc\u001b[49m\u001b[43m(\u001b[49m\u001b[38;5;241;43m*\u001b[39;49m\u001b[43margs\u001b[49m\u001b[43m,\u001b[49m\u001b[43m \u001b[49m\u001b[38;5;241;43m*\u001b[39;49m\u001b[38;5;241;43m*\u001b[39;49m\u001b[43mkwargs\u001b[49m\u001b[43m)\u001b[49m\n\u001b[0;32m    214\u001b[0m \u001b[38;5;28;01mexcept\u001b[39;00m InvalidParameterError \u001b[38;5;28;01mas\u001b[39;00m e:\n\u001b[0;32m    215\u001b[0m     \u001b[38;5;66;03m# When the function is just a wrapper around an estimator, we allow\u001b[39;00m\n\u001b[0;32m    216\u001b[0m     \u001b[38;5;66;03m# the function to delegate validation to the estimator, but we replace\u001b[39;00m\n\u001b[0;32m    217\u001b[0m     \u001b[38;5;66;03m# the name of the estimator by the name of the function in the error\u001b[39;00m\n\u001b[0;32m    218\u001b[0m     \u001b[38;5;66;03m# message to avoid confusion.\u001b[39;00m\n\u001b[0;32m    219\u001b[0m     msg \u001b[38;5;241m=\u001b[39m re\u001b[38;5;241m.\u001b[39msub(\n\u001b[0;32m    220\u001b[0m         \u001b[38;5;124mr\u001b[39m\u001b[38;5;124m\"\u001b[39m\u001b[38;5;124mparameter of \u001b[39m\u001b[38;5;124m\\\u001b[39m\u001b[38;5;124mw+ must be\u001b[39m\u001b[38;5;124m\"\u001b[39m,\n\u001b[0;32m    221\u001b[0m         \u001b[38;5;124mf\u001b[39m\u001b[38;5;124m\"\u001b[39m\u001b[38;5;124mparameter of \u001b[39m\u001b[38;5;132;01m{\u001b[39;00mfunc\u001b[38;5;241m.\u001b[39m\u001b[38;5;18m__qualname__\u001b[39m\u001b[38;5;132;01m}\u001b[39;00m\u001b[38;5;124m must be\u001b[39m\u001b[38;5;124m\"\u001b[39m,\n\u001b[0;32m    222\u001b[0m         \u001b[38;5;28mstr\u001b[39m(e),\n\u001b[0;32m    223\u001b[0m     )\n",
      "File \u001b[1;32m~\\AppData\\Local\\Programs\\Python\\Python312\\Lib\\site-packages\\sklearn\\metrics\\_ranking.py:1108\u001b[0m, in \u001b[0;36mroc_curve\u001b[1;34m(y_true, y_score, pos_label, sample_weight, drop_intermediate)\u001b[0m\n\u001b[0;32m   1006\u001b[0m \u001b[38;5;129m@validate_params\u001b[39m(\n\u001b[0;32m   1007\u001b[0m     {\n\u001b[0;32m   1008\u001b[0m         \u001b[38;5;124m\"\u001b[39m\u001b[38;5;124my_true\u001b[39m\u001b[38;5;124m\"\u001b[39m: [\u001b[38;5;124m\"\u001b[39m\u001b[38;5;124marray-like\u001b[39m\u001b[38;5;124m\"\u001b[39m],\n\u001b[1;32m   (...)\u001b[0m\n\u001b[0;32m   1017\u001b[0m     y_true, y_score, \u001b[38;5;241m*\u001b[39m, pos_label\u001b[38;5;241m=\u001b[39m\u001b[38;5;28;01mNone\u001b[39;00m, sample_weight\u001b[38;5;241m=\u001b[39m\u001b[38;5;28;01mNone\u001b[39;00m, drop_intermediate\u001b[38;5;241m=\u001b[39m\u001b[38;5;28;01mTrue\u001b[39;00m\n\u001b[0;32m   1018\u001b[0m ):\n\u001b[0;32m   1019\u001b[0m \u001b[38;5;250m    \u001b[39m\u001b[38;5;124;03m\"\"\"Compute Receiver operating characteristic (ROC).\u001b[39;00m\n\u001b[0;32m   1020\u001b[0m \n\u001b[0;32m   1021\u001b[0m \u001b[38;5;124;03m    Note: this implementation is restricted to the binary classification task.\u001b[39;00m\n\u001b[1;32m   (...)\u001b[0m\n\u001b[0;32m   1106\u001b[0m \u001b[38;5;124;03m    array([ inf, 0.8 , 0.4 , 0.35, 0.1 ])\u001b[39;00m\n\u001b[0;32m   1107\u001b[0m \u001b[38;5;124;03m    \"\"\"\u001b[39;00m\n\u001b[1;32m-> 1108\u001b[0m     fps, tps, thresholds \u001b[38;5;241m=\u001b[39m \u001b[43m_binary_clf_curve\u001b[49m\u001b[43m(\u001b[49m\n\u001b[0;32m   1109\u001b[0m \u001b[43m        \u001b[49m\u001b[43my_true\u001b[49m\u001b[43m,\u001b[49m\u001b[43m \u001b[49m\u001b[43my_score\u001b[49m\u001b[43m,\u001b[49m\u001b[43m \u001b[49m\u001b[43mpos_label\u001b[49m\u001b[38;5;241;43m=\u001b[39;49m\u001b[43mpos_label\u001b[49m\u001b[43m,\u001b[49m\u001b[43m \u001b[49m\u001b[43msample_weight\u001b[49m\u001b[38;5;241;43m=\u001b[39;49m\u001b[43msample_weight\u001b[49m\n\u001b[0;32m   1110\u001b[0m \u001b[43m    \u001b[49m\u001b[43m)\u001b[49m\n\u001b[0;32m   1112\u001b[0m     \u001b[38;5;66;03m# Attempt to drop thresholds corresponding to points in between and\u001b[39;00m\n\u001b[0;32m   1113\u001b[0m     \u001b[38;5;66;03m# collinear with other points. These are always suboptimal and do not\u001b[39;00m\n\u001b[0;32m   1114\u001b[0m     \u001b[38;5;66;03m# appear on a plotted ROC curve (and thus do not affect the AUC).\u001b[39;00m\n\u001b[1;32m   (...)\u001b[0m\n\u001b[0;32m   1119\u001b[0m     \u001b[38;5;66;03m# but does not drop more complicated cases like fps = [1, 3, 7],\u001b[39;00m\n\u001b[0;32m   1120\u001b[0m     \u001b[38;5;66;03m# tps = [1, 2, 4]; there is no harm in keeping too many thresholds.\u001b[39;00m\n\u001b[0;32m   1121\u001b[0m     \u001b[38;5;28;01mif\u001b[39;00m drop_intermediate \u001b[38;5;129;01mand\u001b[39;00m \u001b[38;5;28mlen\u001b[39m(fps) \u001b[38;5;241m>\u001b[39m \u001b[38;5;241m2\u001b[39m:\n",
      "File \u001b[1;32m~\\AppData\\Local\\Programs\\Python\\Python312\\Lib\\site-packages\\sklearn\\metrics\\_ranking.py:819\u001b[0m, in \u001b[0;36m_binary_clf_curve\u001b[1;34m(y_true, y_score, pos_label, sample_weight)\u001b[0m\n\u001b[0;32m    816\u001b[0m \u001b[38;5;28;01mif\u001b[39;00m \u001b[38;5;129;01mnot\u001b[39;00m (y_type \u001b[38;5;241m==\u001b[39m \u001b[38;5;124m\"\u001b[39m\u001b[38;5;124mbinary\u001b[39m\u001b[38;5;124m\"\u001b[39m \u001b[38;5;129;01mor\u001b[39;00m (y_type \u001b[38;5;241m==\u001b[39m \u001b[38;5;124m\"\u001b[39m\u001b[38;5;124mmulticlass\u001b[39m\u001b[38;5;124m\"\u001b[39m \u001b[38;5;129;01mand\u001b[39;00m pos_label \u001b[38;5;129;01mis\u001b[39;00m \u001b[38;5;129;01mnot\u001b[39;00m \u001b[38;5;28;01mNone\u001b[39;00m)):\n\u001b[0;32m    817\u001b[0m     \u001b[38;5;28;01mraise\u001b[39;00m \u001b[38;5;167;01mValueError\u001b[39;00m(\u001b[38;5;124m\"\u001b[39m\u001b[38;5;132;01m{0}\u001b[39;00m\u001b[38;5;124m format is not supported\u001b[39m\u001b[38;5;124m\"\u001b[39m\u001b[38;5;241m.\u001b[39mformat(y_type))\n\u001b[1;32m--> 819\u001b[0m \u001b[43mcheck_consistent_length\u001b[49m\u001b[43m(\u001b[49m\u001b[43my_true\u001b[49m\u001b[43m,\u001b[49m\u001b[43m \u001b[49m\u001b[43my_score\u001b[49m\u001b[43m,\u001b[49m\u001b[43m \u001b[49m\u001b[43msample_weight\u001b[49m\u001b[43m)\u001b[49m\n\u001b[0;32m    820\u001b[0m y_true \u001b[38;5;241m=\u001b[39m column_or_1d(y_true)\n\u001b[0;32m    821\u001b[0m y_score \u001b[38;5;241m=\u001b[39m column_or_1d(y_score)\n",
      "File \u001b[1;32m~\\AppData\\Local\\Programs\\Python\\Python312\\Lib\\site-packages\\sklearn\\utils\\validation.py:457\u001b[0m, in \u001b[0;36mcheck_consistent_length\u001b[1;34m(*arrays)\u001b[0m\n\u001b[0;32m    455\u001b[0m uniques \u001b[38;5;241m=\u001b[39m np\u001b[38;5;241m.\u001b[39munique(lengths)\n\u001b[0;32m    456\u001b[0m \u001b[38;5;28;01mif\u001b[39;00m \u001b[38;5;28mlen\u001b[39m(uniques) \u001b[38;5;241m>\u001b[39m \u001b[38;5;241m1\u001b[39m:\n\u001b[1;32m--> 457\u001b[0m     \u001b[38;5;28;01mraise\u001b[39;00m \u001b[38;5;167;01mValueError\u001b[39;00m(\n\u001b[0;32m    458\u001b[0m         \u001b[38;5;124m\"\u001b[39m\u001b[38;5;124mFound input variables with inconsistent numbers of samples: \u001b[39m\u001b[38;5;132;01m%r\u001b[39;00m\u001b[38;5;124m\"\u001b[39m\n\u001b[0;32m    459\u001b[0m         \u001b[38;5;241m%\u001b[39m [\u001b[38;5;28mint\u001b[39m(l) \u001b[38;5;28;01mfor\u001b[39;00m l \u001b[38;5;129;01min\u001b[39;00m lengths]\n\u001b[0;32m    460\u001b[0m     )\n",
      "\u001b[1;31mValueError\u001b[0m: Found input variables with inconsistent numbers of samples: [2000, 4000]"
     ]
    }
   ],
   "source": [
    "from sklearn.metrics import roc_curve, auc\n",
    "from sklearn.preprocessing import label_binarize\n",
    "from sklearn.multiclass import OneVsRestClassifier\n",
    "from itertools import cycle\n",
    "\n",
    "\n",
    "# Compute ROC curve and ROC area for each class\n",
    "y_score = mlp.predict_proba(X_test)\n",
    "n_classes = len(mlp.classes_)\n",
    "y_test_binarized = label_binarize(Y_test, classes=mlp.classes_)\n",
    "\n",
    "fpr = dict()\n",
    "tpr = dict()\n",
    "roc_auc = dict()\n",
    "for i in range(n_classes):\n",
    "    try:\n",
    "        fpr[i], tpr[i], _ = roc_curve(y_test_binarized[:, i], y_score[:, i])\n",
    "        roc_auc[i] = auc(fpr[i], tpr[i])\n",
    "    except IndexError:\n",
    "        pass  # Ignore if there's an IndexError\n",
    "\n",
    "# Compute micro-average ROC curve and ROC area\n",
    "fpr[\"micro\"], tpr[\"micro\"], _ = roc_curve(y_test_binarized.ravel(), y_score.ravel())\n",
    "roc_auc[\"micro\"] = auc(fpr[\"micro\"], tpr[\"micro\"])\n",
    "\n",
    "# Plot ROC curve\n",
    "plt.figure(figsize=(8, 5))\n",
    "\n",
    "# Plot micro-average ROC curve\n",
    "plt.plot(fpr[\"micro\"], tpr[\"micro\"],\n",
    "         label='micro-average ROC curve (area = {0:0.2f})'\n",
    "               ''.format(roc_auc[\"micro\"]),\n",
    "         color='deeppink', linestyle=':', linewidth=4)\n",
    "\n",
    "# Plot each individual class ROC curve\n",
    "colors = cycle(['aqua', 'darkorange', 'cornflowerblue'])\n",
    "for i, color in zip(range(n_classes), colors):\n",
    "    try:\n",
    "        plt.plot(fpr[i], tpr[i], color=color, lw=2,\n",
    "                 label='ROC curve of class {0} (area = {1:0.2f})'\n",
    "                 ''.format(i, roc_auc[i]))\n",
    "    except KeyError:\n",
    "        pass  # Ignore if there's a KeyError\n",
    "\n",
    "plt.plot([0, 1], [0, 1], 'k--', lw=2)\n",
    "plt.xlim([0.0, 1.0])\n",
    "plt.ylim([0.0, 1.05])\n",
    "plt.xlabel('False Positive Rate')\n",
    "plt.ylabel('True Positive Rate')\n",
    "plt.title('Receiver Operating Characteristic (ROC) Curve')\n",
    "plt.legend(loc=\"lower right\")\n",
    "plt.show()"
   ]
  },
  {
   "cell_type": "code",
   "execution_count": null,
   "id": "0033519a-cb45-4b8c-a7f0-386fc342d8f9",
   "metadata": {},
   "outputs": [],
   "source": []
  }
 ],
 "metadata": {
  "colab": {
   "provenance": []
  },
  "kernelspec": {
   "display_name": "Python 3 (ipykernel)",
   "language": "python",
   "name": "python3"
  },
  "language_info": {
   "codemirror_mode": {
    "name": "ipython",
    "version": 3
   },
   "file_extension": ".py",
   "mimetype": "text/x-python",
   "name": "python",
   "nbconvert_exporter": "python",
   "pygments_lexer": "ipython3",
   "version": "3.12.0"
  }
 },
 "nbformat": 4,
 "nbformat_minor": 5
}
