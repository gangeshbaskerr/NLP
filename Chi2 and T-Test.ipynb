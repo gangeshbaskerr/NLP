{
 "cells": [
  {
   "cell_type": "code",
   "execution_count": 1,
   "id": "cf5bba84",
   "metadata": {},
   "outputs": [],
   "source": [
    "import math\n",
    "import pandas as pd\n",
    "import numpy as np"
   ]
  },
  {
   "cell_type": "code",
   "execution_count": 2,
   "id": "5d4a80ae",
   "metadata": {},
   "outputs": [
    {
     "name": "stdout",
     "output_type": "stream",
     "text": [
      "3.614680769817115e-07 5.591407348842592e-07\n"
     ]
    }
   ],
   "source": [
    "new_occ=15828\n",
    "companies_occ=4675\n",
    "newcompanies_occ=8\n",
    "total_occ=14307668\n",
    "prob_new=new_occ/total_occ\n",
    "prob_companies=companies_occ/total_occ\n",
    "expected_mean=prob_new*prob_companies\n",
    "observed_mean=newcompanies_occ/total_occ\n",
    "print(expected_mean,observed_mean)"
   ]
  },
  {
   "cell_type": "code",
   "execution_count": 3,
   "id": "fc9ca1de",
   "metadata": {},
   "outputs": [
    {
     "data": {
      "text/plain": [
       "5.591407348842592e-07"
      ]
     },
     "execution_count": 3,
     "metadata": {},
     "output_type": "execute_result"
    }
   ],
   "source": [
    "s2=observed_mean\n",
    "s2"
   ]
  },
  {
   "cell_type": "code",
   "execution_count": 4,
   "id": "6fcf86e2",
   "metadata": {},
   "outputs": [
    {
     "data": {
      "text/plain": [
       "0.9999319894802036"
      ]
     },
     "execution_count": 4,
     "metadata": {},
     "output_type": "execute_result"
    }
   ],
   "source": [
    "t=(observed_mean-expected_mean)/((math.sqrt(s2/total_occ)))\n",
    "t"
   ]
  },
  {
   "cell_type": "code",
   "execution_count": 5,
   "id": "e7c768c1",
   "metadata": {},
   "outputs": [
    {
     "name": "stdout",
     "output_type": "stream",
     "text": [
      "Not a collocation\n"
     ]
    }
   ],
   "source": [
    "alpha=2.576\n",
    "if t<alpha:\n",
    "    print(\"Not a collocation\")\n",
    "else:\n",
    "    print(\"It is a collocation\")"
   ]
  },
  {
   "cell_type": "code",
   "execution_count": 6,
   "id": "b7a3b8c2",
   "metadata": {},
   "outputs": [
    {
     "data": {
      "text/html": [
       "<div>\n",
       "<style scoped>\n",
       "    .dataframe tbody tr th:only-of-type {\n",
       "        vertical-align: middle;\n",
       "    }\n",
       "\n",
       "    .dataframe tbody tr th {\n",
       "        vertical-align: top;\n",
       "    }\n",
       "\n",
       "    .dataframe thead th {\n",
       "        text-align: right;\n",
       "    }\n",
       "</style>\n",
       "<table border=\"1\" class=\"dataframe\">\n",
       "  <thead>\n",
       "    <tr style=\"text-align: right;\">\n",
       "      <th></th>\n",
       "      <th>1</th>\n",
       "      <th>2</th>\n",
       "    </tr>\n",
       "  </thead>\n",
       "  <tbody>\n",
       "    <tr>\n",
       "      <th>0</th>\n",
       "      <td>8</td>\n",
       "      <td>4667</td>\n",
       "    </tr>\n",
       "    <tr>\n",
       "      <th>1</th>\n",
       "      <td>15820</td>\n",
       "      <td>14287173</td>\n",
       "    </tr>\n",
       "  </tbody>\n",
       "</table>\n",
       "</div>"
      ],
      "text/plain": [
       "       1         2\n",
       "0      8      4667\n",
       "1  15820  14287173"
      ]
     },
     "execution_count": 6,
     "metadata": {},
     "output_type": "execute_result"
    }
   ],
   "source": [
    "dict1={1:[8,15820],2:[4667,14287173]}\n",
    "obs=pd.DataFrame(dict1)\n",
    "obs"
   ]
  },
  {
   "cell_type": "code",
   "execution_count": 7,
   "id": "62da7499",
   "metadata": {},
   "outputs": [],
   "source": [
    "val1=(obs[1][0]+obs[1][1])*(obs[1][0]+obs[2][0])/(np.sum(obs[1])+np.sum(obs[2]))\n",
    "val2=(obs[2][0]+obs[2][1])*(obs[1][0]+obs[2][0])/(np.sum(obs[1])+np.sum(obs[2]))\n",
    "val3=(obs[1][0]+obs[1][1])*(obs[1][1]+obs[2][1])/(np.sum(obs[1])+np.sum(obs[2]))\n",
    "val4=(obs[2][0]+obs[2][1])*(obs[1][1]+obs[2][1])/(np.sum(obs[1])+np.sum(obs[2]))"
   ]
  },
  {
   "cell_type": "code",
   "execution_count": 8,
   "id": "1f365403",
   "metadata": {},
   "outputs": [
    {
     "data": {
      "text/html": [
       "<div>\n",
       "<style scoped>\n",
       "    .dataframe tbody tr th:only-of-type {\n",
       "        vertical-align: middle;\n",
       "    }\n",
       "\n",
       "    .dataframe tbody tr th {\n",
       "        vertical-align: top;\n",
       "    }\n",
       "\n",
       "    .dataframe thead th {\n",
       "        text-align: right;\n",
       "    }\n",
       "</style>\n",
       "<table border=\"1\" class=\"dataframe\">\n",
       "  <thead>\n",
       "    <tr style=\"text-align: right;\">\n",
       "      <th></th>\n",
       "      <th>1</th>\n",
       "      <th>2</th>\n",
       "    </tr>\n",
       "  </thead>\n",
       "  <tbody>\n",
       "    <tr>\n",
       "      <th>0</th>\n",
       "      <td>5.171765</td>\n",
       "      <td>4.669828e+03</td>\n",
       "    </tr>\n",
       "    <tr>\n",
       "      <th>1</th>\n",
       "      <td>15822.828235</td>\n",
       "      <td>1.428717e+07</td>\n",
       "    </tr>\n",
       "  </tbody>\n",
       "</table>\n",
       "</div>"
      ],
      "text/plain": [
       "              1             2\n",
       "0      5.171765  4.669828e+03\n",
       "1  15822.828235  1.428717e+07"
      ]
     },
     "execution_count": 8,
     "metadata": {},
     "output_type": "execute_result"
    }
   ],
   "source": [
    "dict2={1:[val1,val3],2:[val2,val4]}\n",
    "exp=pd.DataFrame(dict2)\n",
    "exp"
   ]
  },
  {
   "cell_type": "code",
   "execution_count": 9,
   "id": "446b9fdb",
   "metadata": {},
   "outputs": [
    {
     "data": {
      "text/plain": [
       "1.54886920672822"
      ]
     },
     "execution_count": 9,
     "metadata": {},
     "output_type": "execute_result"
    }
   ],
   "source": [
    "chi2=(((obs[1][0]-val1)**2)/val1)+(((obs[2][0]-val2)**2)/val2)+(((obs[1][1]-val3)**2)/val3)+(((obs[2][1]-val4)**2)/val4)\n",
    "chi2"
   ]
  },
  {
   "cell_type": "code",
   "execution_count": 10,
   "id": "2147dd2d",
   "metadata": {},
   "outputs": [
    {
     "name": "stdout",
     "output_type": "stream",
     "text": [
      "Not a collocation\n"
     ]
    }
   ],
   "source": [
    "alpha=3.84\n",
    "if chi2<alpha:\n",
    "    print(\"Not a collocation\")\n",
    "else:\n",
    "    print(\"It is a collocation\")"
   ]
  },
  {
   "cell_type": "code",
   "execution_count": null,
   "id": "6349640c-852e-4a56-a770-2f24ce3d05a7",
   "metadata": {},
   "outputs": [],
   "source": [
    "import scipy.stats as stats"
   ]
  },
  {
   "cell_type": "code",
   "execution_count": null,
   "id": "25703b46-0554-4de4-9fcb-06723854606b",
   "metadata": {},
   "outputs": [],
   "source": [
    "def calculate_expected_frequency(row_total, column_total, grand_total):\n",
    "    return (row_total * column_total) / grand_total"
   ]
  },
  {
   "cell_type": "code",
   "execution_count": null,
   "id": "329c07c6-663e-4c48-b368-b091c352a3aa",
   "metadata": {},
   "outputs": [],
   "source": [
    "# Input from the user\n",
    "observed_count = int(input(\"Enter the observed count for 'new companies': \"))\n",
    "total_tokens = int(input(\"Enter the total number of tokens in the corpus: \"))\n",
    "new_count = int(input(\"Enter the count for 'new': \"))\n",
    "companies_count = int(input(\"Enter the count for 'companies': \"))"
   ]
  },
  {
   "cell_type": "code",
   "execution_count": null,
   "id": "3c8bbce2-4fcb-41d3-810a-b132c8f35b20",
   "metadata": {},
   "outputs": [],
   "source": [
    "# Calculate expected frequencies\n",
    "expected_new_companies = calculate_expected_frequency(new_count, companies_count, total_tokens)\n",
    "expected_not_new_companies = total_tokens - expected_new_companies\n",
    "\n",
    "# Create the contingency table\n",
    "observed_table = [[observed_count, new_count - observed_count],\n",
    "                  [companies_count - observed_count, total_tokens - new_count - companies_count + observed_count]]\n",
    "\n",
    "# Perform chi-square test\n",
    "chi2_stat, p_value, _, _ = stats.chi2_contingency(observed_table)\n",
    "\n",
    "# Calculate degree of freedom\n",
    "degrees_of_freedom = (len(observed_table) - 1) * (len(observed_table[0]) - 1)"
   ]
  },
  {
   "cell_type": "code",
   "execution_count": null,
   "id": "fd6c1fbe-4b3f-49f3-a484-3df6e2c179b4",
   "metadata": {},
   "outputs": [],
   "source": [
    "print(\"\\nContingency Table:\")\n",
    "print(\"Observed frequencies:\")\n",
    "print(f\"{'':<20}{'new companies':<15}{'not new companies':<15}\")\n",
    "print(f\"{'new':<20}{observed_table[0][0]:<15}{observed_table[0][1]:<15}\")\n",
    "print(f\"{'not new':<20}{observed_table[1][0]:<15}{observed_table[1][1]:<15}\")\n",
    "\n",
    "print(\"\\nExpected frequencies:\")\n",
    "print(f\"Expected frequency for 'new companies': {expected_new_companies}\")\n",
    "print(f\"Expected frequency for 'not new companies': {expected_not_new_companies}\")\n",
    "\n",
    "print(\"\\nChi-Square Test Results:\")\n",
    "print(f\"Chi-square statistic: {chi2_stat}\")\n",
    "print(f\"Degrees of freedom: {degrees_of_freedom}\")\n",
    "print(f\"P-value: {p_value}\")"
   ]
  },
  {
   "cell_type": "code",
   "execution_count": null,
   "id": "98f90322-139e-4e83-b670-e434956aa5dc",
   "metadata": {},
   "outputs": [],
   "source": [
    "# Get input for probability level\n",
    "confidence_level = float(input(\"Enter the confidence level (e.g., 0.05): \"))\n",
    "critical_value = stats.chi2.ppf(1 - confidence_level, df=degrees_of_freedom)"
   ]
  },
  {
   "cell_type": "code",
   "execution_count": null,
   "id": "41ca5190-b859-43e8-b381-575814944d89",
   "metadata": {},
   "outputs": [],
   "source": [
    "# Interpret the results\n",
    "print(\"\\nCritical value:\", critical_value)\n",
    "if chi2_stat > critical_value:\n",
    "    print(\"\\nReject the null hypothesis\")\n",
    "    print(\"The collocation 'new companies' is statistically significant.\")\n",
    "else:\n",
    "    print(\"\\nFail to reject the null hypothesis\")\n",
    "    print(\"The collocation 'new companies' is not statistically significant.\")"
   ]
  },
  {
   "cell_type": "code",
   "execution_count": null,
   "id": "dcf1e951-fc8b-4fa8-ad5e-d04fa30c1bdd",
   "metadata": {},
   "outputs": [],
   "source": [
    "# Additional interpretation\n",
    "if p_value < confidence_level:\n",
    "    print(\"\\nReject the null hypothesis\")\n",
    "    print(\"The collocation 'new companies' is a good candidate.\")\n",
    "else:\n",
    "    print(\"\\nFail to reject the null hypothesis\")\n",
    "    print(\"The collocation 'new companies' is not a good candidate.\")\n"
   ]
  },
  {
   "cell_type": "code",
   "execution_count": null,
   "id": "10ca7e23-b8ca-4f5e-b338-09acf9503e30",
   "metadata": {},
   "outputs": [],
   "source": []
  },
  {
   "cell_type": "code",
   "execution_count": null,
   "id": "a0dd75f6-22aa-4a60-80d0-d9b889d1fb43",
   "metadata": {},
   "outputs": [],
   "source": []
  }
 ],
 "metadata": {
  "kernelspec": {
   "display_name": "Python 3 (ipykernel)",
   "language": "python",
   "name": "python3"
  },
  "language_info": {
   "codemirror_mode": {
    "name": "ipython",
    "version": 3
   },
   "file_extension": ".py",
   "mimetype": "text/x-python",
   "name": "python",
   "nbconvert_exporter": "python",
   "pygments_lexer": "ipython3",
   "version": "3.12.0"
  }
 },
 "nbformat": 4,
 "nbformat_minor": 5
}
