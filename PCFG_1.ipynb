{
 "cells": [
  {
   "cell_type": "markdown",
   "id": "d3757195",
   "metadata": {},
   "source": [
    "pcfg\n",
    "VeterbiParser\n",
    "InsideChartParser"
   ]
  },
  {
   "cell_type": "code",
   "execution_count": 2,
   "id": "a8485104",
   "metadata": {},
   "outputs": [
    {
     "name": "stdout",
     "output_type": "stream",
     "text": [
      "Collecting pcfgNote: you may need to restart the kernel to use updated packages.\n"
     ]
    },
    {
     "name": "stderr",
     "output_type": "stream",
     "text": [
      "ERROR: pip's dependency resolver does not currently take into account all the packages that are installed. This behaviour is the source of the following dependency conflicts.\n",
      "markdown 3.5.1 requires importlib-metadata>=4.4; python_version < \"3.10\", but you have importlib-metadata 3.10.1 which is incompatible.\n"
     ]
    },
    {
     "name": "stdout",
     "output_type": "stream",
     "text": [
      "\n",
      "  Downloading pcfg-0.1.5-py3-none-any.whl (3.5 kB)\n",
      "Requirement already satisfied: nltk<4.0,>=3.5 in c:\\users\\admin\\anaconda3\\lib\\site-packages (from pcfg) (3.6.1)\n",
      "Collecting importlib-metadata<4.0.0,>=3.1.1\n",
      "  Downloading importlib_metadata-3.10.1-py3-none-any.whl (14 kB)\n",
      "Requirement already satisfied: zipp>=0.5 in c:\\users\\admin\\anaconda3\\lib\\site-packages (from importlib-metadata<4.0.0,>=3.1.1->pcfg) (3.4.1)\n",
      "Requirement already satisfied: click in c:\\users\\admin\\anaconda3\\lib\\site-packages (from nltk<4.0,>=3.5->pcfg) (7.1.2)\n",
      "Requirement already satisfied: joblib in c:\\users\\admin\\anaconda3\\lib\\site-packages (from nltk<4.0,>=3.5->pcfg) (1.0.1)\n",
      "Requirement already satisfied: regex in c:\\users\\admin\\anaconda3\\lib\\site-packages (from nltk<4.0,>=3.5->pcfg) (2021.4.4)\n",
      "Requirement already satisfied: tqdm in c:\\users\\admin\\anaconda3\\lib\\site-packages (from nltk<4.0,>=3.5->pcfg) (4.59.0)\n",
      "Installing collected packages: importlib-metadata, pcfg\n",
      "  Attempting uninstall: importlib-metadata\n",
      "    Found existing installation: importlib-metadata 6.8.0\n",
      "    Uninstalling importlib-metadata-6.8.0:\n",
      "      Successfully uninstalled importlib-metadata-6.8.0\n",
      "Successfully installed importlib-metadata-3.10.1 pcfg-0.1.5\n"
     ]
    }
   ],
   "source": [
    "pip install pcfg"
   ]
  },
  {
   "cell_type": "code",
   "execution_count": 10,
   "id": "83571001",
   "metadata": {},
   "outputs": [],
   "source": [
    "import nltk\n",
    "from nltk import PCFG, ViterbiParser, InsideChartParser"
   ]
  },
  {
   "cell_type": "code",
   "execution_count": 7,
   "id": "61b9a2de",
   "metadata": {},
   "outputs": [],
   "source": [
    "grammar = PCFG.fromstring(\"\"\"\n",
    "S -> NP VP [1.0]\n",
    "PP -> P NP [1.0]\n",
    "VP -> V NP [0.7]\n",
    "VP -> VP PP [0.3]\n",
    "NP -> NP PP [0.4]\n",
    "P -> 'with' [1.0]\n",
    "V -> 'saw' [1.0]\n",
    "NP -> 'astronomers' [0.1] | 'ears' [0.18] | 'saw' [0.04] | 'stars' [0.18] | 'telescope' [0.1]\n",
    "\"\"\")"
   ]
  },
  {
   "cell_type": "code",
   "execution_count": 15,
   "id": "d132804e",
   "metadata": {},
   "outputs": [],
   "source": [
    "sentence=\"astronomers saw stars with ears\".split()"
   ]
  },
  {
   "cell_type": "code",
   "execution_count": 16,
   "id": "93b0163a",
   "metadata": {},
   "outputs": [],
   "source": [
    "viterbi_parser = ViterbiParser(grammar)\n",
    "inside_chart_parser = InsideChartParser(grammar)"
   ]
  },
  {
   "cell_type": "code",
   "execution_count": 17,
   "id": "55e87565",
   "metadata": {},
   "outputs": [
    {
     "name": "stdout",
     "output_type": "stream",
     "text": [
      "Viterbi Parse Tree: (S\n",
      "  (NP astronomers)\n",
      "  (VP (V saw) (NP (NP stars) (PP (P with) (NP ears))))) (p=0.0009072)\n"
     ]
    }
   ],
   "source": [
    "for tree in viterbi_parser.parse(sentence):\n",
    "    print(\"Viterbi Parse Tree:\", tree)"
   ]
  },
  {
   "cell_type": "code",
   "execution_count": 18,
   "id": "52c8c919",
   "metadata": {},
   "outputs": [
    {
     "name": "stdout",
     "output_type": "stream",
     "text": [
      "InsideChartParser Parse Tree: (S\n",
      "  (NP astronomers)\n",
      "  (VP (V saw) (NP (NP stars) (PP (P with) (NP ears))))) (p=0.0009072)\n",
      "InsideChartParser Parse Tree: (S\n",
      "  (NP astronomers)\n",
      "  (VP (VP (V saw) (NP stars)) (PP (P with) (NP ears)))) (p=0.0006804)\n"
     ]
    }
   ],
   "source": [
    "for tree in inside_chart_parser.parse(sentence):\n",
    "    print(\"InsideChartParser Parse Tree:\", tree)"
   ]
  },
  {
   "cell_type": "code",
   "execution_count": null,
   "id": "c28ef85b-5b56-41bf-84ec-e6f3927d98ae",
   "metadata": {},
   "outputs": [],
   "source": [
    "import pickle\n",
    "\n",
    "class Rule:\n",
    "    def __init__(self, left, right, probability):\n",
    "        self.left = left\n",
    "        self.right = right\n",
    "        self.probability = probability\n",
    "\n",
    "def find_rule_with_word(terminal):\n",
    "    return [rule for rule in rules if terminal in rule.right]\n",
    "\n",
    "def find_possible_combinations(x, y):\n",
    "    return [((x, i), (i+1, y)) for i in range(x, y)]\n",
    "\n",
    "Z = int(input(\"Enter no of rules: \"))\n",
    "rules = []\n",
    "for i in range(Z):\n",
    "    print(\"-\" * 10)\n",
    "    print(f\"Rule {i+1}\")\n",
    "    key = input(\"Enter left side of the rule: \").upper()\n",
    "    value = input(\"Enter right side of the rule in single string: \").upper().split()\n",
    "    probability = float(input(\"Enter probability of the rule: \"))\n",
    "    rule = Rule(key, value, probability)\n",
    "    rules.append(rule)\n",
    "\n",
    "pickle.dump(rules, open(\"rules.data\", \"wb\"))\n",
    "\n",
    "rules = pickle.load(open(\"rules.data\", \"rb\"))\n",
    "words = [input(f\"Enter word {i+1}: \").upper() for i in range(int(input(\"Enter no of words: \")))]\n",
    "\n",
    "matrix = [[[] for j in range(len(words))] for i in range(len(words))]\n",
    "for i in range(len(words)):\n",
    "    for j in range(len(words)):\n",
    "        if i + j < len(words):\n",
    "            if i == 0:\n",
    "                matrix[j][j] = find_rule_with_word(words[j])\n",
    "            else:\n",
    "                x = j\n",
    "                y = i + j\n",
    "                data = []\n",
    "                for k in find_possible_combinations(x, y):\n",
    "                    for left in matrix[k[0][0]][k[0][1]]:\n",
    "                        for right in matrix[k[1][0]][k[1][1]]:\n",
    "                            for rule in rules:\n",
    "                                if rule.right == [left.left, right.left]:\n",
    "                                    probability = left.probability * right.probability * rule.probability\n",
    "                                    data.append(Rule(rule.left, rule.right, probability))\n",
    "                matrix[x][y] = data\n",
    "\n",
    "if len(matrix[0][-1]) > 0 and all(rule.left == \"S\" for rule in matrix[0][-1]):\n",
    "    prob = sum(rule.probability for rule in matrix[0][-1])\n",
    "    print(f\"The probability of the input sentence is {prob}\")\n",
    "else:\n",
    "    print(\"The input sentence is not valid according to the grammar rules.\")"
   ]
  }
 ],
 "metadata": {
  "kernelspec": {
   "display_name": "Python 3 (ipykernel)",
   "language": "python",
   "name": "python3"
  },
  "language_info": {
   "codemirror_mode": {
    "name": "ipython",
    "version": 3
   },
   "file_extension": ".py",
   "mimetype": "text/x-python",
   "name": "python",
   "nbconvert_exporter": "python",
   "pygments_lexer": "ipython3",
   "version": "3.12.0"
  }
 },
 "nbformat": 4,
 "nbformat_minor": 5
}
